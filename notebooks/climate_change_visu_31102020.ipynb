{
  "nbformat": 4,
  "nbformat_minor": 0,
  "metadata": {
    "colab": {
      "name": "climate_change_visu_31102020.ipynb",
      "provenance": [],
      "collapsed_sections": []
    },
    "kernelspec": {
      "display_name": "Python 3",
      "language": "python",
      "name": "python3"
    },
    "language_info": {
      "codemirror_mode": {
        "name": "ipython",
        "version": 3
      },
      "file_extension": ".py",
      "mimetype": "text/x-python",
      "name": "python",
      "nbconvert_exporter": "python",
      "pygments_lexer": "ipython3",
      "version": "3.7.7"
    },
    "widgets": {
      "application/vnd.jupyter.widget-state+json": {
        "d0cd22d61e6044d498871e0f26f2e4d1": {
          "model_module": "@jupyter-widgets/controls",
          "model_name": "VBoxModel",
          "state": {
            "_view_name": "VBoxView",
            "_dom_classes": [
              "widget-interact"
            ],
            "_model_name": "VBoxModel",
            "_view_module": "@jupyter-widgets/controls",
            "_model_module_version": "1.5.0",
            "_view_count": null,
            "_view_module_version": "1.5.0",
            "box_style": "",
            "layout": "IPY_MODEL_6961162f6eb344b3b1a3a13cb8567171",
            "_model_module": "@jupyter-widgets/controls",
            "children": [
              "IPY_MODEL_7b8f98db746f44f3a5992ce72d8df377",
              "IPY_MODEL_b1cd5dfdcf814b6097b16ae9e87b9d8f"
            ]
          }
        },
        "6961162f6eb344b3b1a3a13cb8567171": {
          "model_module": "@jupyter-widgets/base",
          "model_name": "LayoutModel",
          "state": {
            "_view_name": "LayoutView",
            "grid_template_rows": null,
            "right": null,
            "justify_content": null,
            "_view_module": "@jupyter-widgets/base",
            "overflow": null,
            "_model_module_version": "1.2.0",
            "_view_count": null,
            "flex_flow": null,
            "width": null,
            "min_width": null,
            "border": null,
            "align_items": null,
            "bottom": null,
            "_model_module": "@jupyter-widgets/base",
            "top": null,
            "grid_column": null,
            "overflow_y": null,
            "overflow_x": null,
            "grid_auto_flow": null,
            "grid_area": null,
            "grid_template_columns": null,
            "flex": null,
            "_model_name": "LayoutModel",
            "justify_items": null,
            "grid_row": null,
            "max_height": null,
            "align_content": null,
            "visibility": null,
            "align_self": null,
            "height": null,
            "min_height": null,
            "padding": null,
            "grid_auto_rows": null,
            "grid_gap": null,
            "max_width": null,
            "order": null,
            "_view_module_version": "1.2.0",
            "grid_template_areas": null,
            "object_position": null,
            "object_fit": null,
            "grid_auto_columns": null,
            "margin": null,
            "display": null,
            "left": null
          }
        },
        "7b8f98db746f44f3a5992ce72d8df377": {
          "model_module": "@jupyter-widgets/controls",
          "model_name": "TextModel",
          "state": {
            "_view_name": "TextView",
            "style": "IPY_MODEL_6752d6891cab46bda2354cb16ae5c607",
            "_dom_classes": [],
            "description": "n",
            "_model_name": "TextModel",
            "placeholder": "​",
            "_view_module": "@jupyter-widgets/controls",
            "_model_module_version": "1.5.0",
            "value": "10",
            "_view_count": null,
            "disabled": false,
            "_view_module_version": "1.5.0",
            "continuous_update": true,
            "description_tooltip": null,
            "_model_module": "@jupyter-widgets/controls",
            "layout": "IPY_MODEL_54fc93e327274460aecc8fabec003519"
          }
        },
        "b1cd5dfdcf814b6097b16ae9e87b9d8f": {
          "model_module": "@jupyter-widgets/output",
          "model_name": "OutputModel",
          "state": {
            "_view_name": "OutputView",
            "msg_id": "",
            "_dom_classes": [],
            "_model_name": "OutputModel",
            "outputs": [
              {
                "output_type": "display_data",
                "metadata": {
                  "tags": []
                },
                "text/html": "<style  type=\"text/css\" >\n#T_bd4b3aa4_1b79_11eb_a8ca_0242ac1c0002row0_col1,#T_bd4b3aa4_1b79_11eb_a8ca_0242ac1c0002row1_col1,#T_bd4b3aa4_1b79_11eb_a8ca_0242ac1c0002row2_col1,#T_bd4b3aa4_1b79_11eb_a8ca_0242ac1c0002row3_col1,#T_bd4b3aa4_1b79_11eb_a8ca_0242ac1c0002row4_col1,#T_bd4b3aa4_1b79_11eb_a8ca_0242ac1c0002row5_col1,#T_bd4b3aa4_1b79_11eb_a8ca_0242ac1c0002row6_col1,#T_bd4b3aa4_1b79_11eb_a8ca_0242ac1c0002row7_col1,#T_bd4b3aa4_1b79_11eb_a8ca_0242ac1c0002row8_col1,#T_bd4b3aa4_1b79_11eb_a8ca_0242ac1c0002row9_col1{\n            background-color:  red;\n        }</style><table id=\"T_bd4b3aa4_1b79_11eb_a8ca_0242ac1c0002\" ><thead>    <tr>        <th class=\"blank level0\" ></th>        <th class=\"col_heading level0 col0\" >dt</th>        <th class=\"col_heading level0 col1\" >AverageTemperature</th>        <th class=\"col_heading level0 col2\" >AverageTemperatureUncertainty</th>        <th class=\"col_heading level0 col3\" >Country</th>    </tr></thead><tbody>\n                <tr>\n                        <th id=\"T_bd4b3aa4_1b79_11eb_a8ca_0242ac1c0002level0_row0\" class=\"row_heading level0 row0\" >284851</th>\n                        <td id=\"T_bd4b3aa4_1b79_11eb_a8ca_0242ac1c0002row0_col0\" class=\"data row0 col0\" >2012-07-01</td>\n                        <td id=\"T_bd4b3aa4_1b79_11eb_a8ca_0242ac1c0002row0_col1\" class=\"data row0 col1\" >38.842000</td>\n                        <td id=\"T_bd4b3aa4_1b79_11eb_a8ca_0242ac1c0002row0_col2\" class=\"data row0 col2\" >0.464000</td>\n                        <td id=\"T_bd4b3aa4_1b79_11eb_a8ca_0242ac1c0002row0_col3\" class=\"data row0 col3\" >Kuwait</td>\n            </tr>\n            <tr>\n                        <th id=\"T_bd4b3aa4_1b79_11eb_a8ca_0242ac1c0002level0_row1\" class=\"row_heading level0 row1\" >284707</th>\n                        <td id=\"T_bd4b3aa4_1b79_11eb_a8ca_0242ac1c0002row1_col0\" class=\"data row1 col0\" >2000-07-01</td>\n                        <td id=\"T_bd4b3aa4_1b79_11eb_a8ca_0242ac1c0002row1_col1\" class=\"data row1 col1\" >38.705000</td>\n                        <td id=\"T_bd4b3aa4_1b79_11eb_a8ca_0242ac1c0002row1_col2\" class=\"data row1 col2\" >0.467000</td>\n                        <td id=\"T_bd4b3aa4_1b79_11eb_a8ca_0242ac1c0002row1_col3\" class=\"data row1 col3\" >Kuwait</td>\n            </tr>\n            <tr>\n                        <th id=\"T_bd4b3aa4_1b79_11eb_a8ca_0242ac1c0002level0_row2\" class=\"row_heading level0 row2\" >284827</th>\n                        <td id=\"T_bd4b3aa4_1b79_11eb_a8ca_0242ac1c0002row2_col0\" class=\"data row2 col0\" >2010-07-01</td>\n                        <td id=\"T_bd4b3aa4_1b79_11eb_a8ca_0242ac1c0002row2_col1\" class=\"data row2 col1\" >38.495000</td>\n                        <td id=\"T_bd4b3aa4_1b79_11eb_a8ca_0242ac1c0002row2_col2\" class=\"data row2 col2\" >0.498000</td>\n                        <td id=\"T_bd4b3aa4_1b79_11eb_a8ca_0242ac1c0002row2_col3\" class=\"data row2 col3\" >Kuwait</td>\n            </tr>\n            <tr>\n                        <th id=\"T_bd4b3aa4_1b79_11eb_a8ca_0242ac1c0002level0_row3\" class=\"row_heading level0 row3\" >284684</th>\n                        <td id=\"T_bd4b3aa4_1b79_11eb_a8ca_0242ac1c0002row3_col0\" class=\"data row3 col0\" >1998-08-01</td>\n                        <td id=\"T_bd4b3aa4_1b79_11eb_a8ca_0242ac1c0002row3_col1\" class=\"data row3 col1\" >38.436000</td>\n                        <td id=\"T_bd4b3aa4_1b79_11eb_a8ca_0242ac1c0002row3_col2\" class=\"data row3 col2\" >0.353000</td>\n                        <td id=\"T_bd4b3aa4_1b79_11eb_a8ca_0242ac1c0002row3_col3\" class=\"data row3 col3\" >Kuwait</td>\n            </tr>\n            <tr>\n                        <th id=\"T_bd4b3aa4_1b79_11eb_a8ca_0242ac1c0002level0_row4\" class=\"row_heading level0 row4\" >284708</th>\n                        <td id=\"T_bd4b3aa4_1b79_11eb_a8ca_0242ac1c0002row4_col0\" class=\"data row4 col0\" >2000-08-01</td>\n                        <td id=\"T_bd4b3aa4_1b79_11eb_a8ca_0242ac1c0002row4_col1\" class=\"data row4 col1\" >38.315000</td>\n                        <td id=\"T_bd4b3aa4_1b79_11eb_a8ca_0242ac1c0002row4_col2\" class=\"data row4 col2\" >0.593000</td>\n                        <td id=\"T_bd4b3aa4_1b79_11eb_a8ca_0242ac1c0002row4_col3\" class=\"data row4 col3\" >Kuwait</td>\n            </tr>\n            <tr>\n                        <th id=\"T_bd4b3aa4_1b79_11eb_a8ca_0242ac1c0002level0_row5\" class=\"row_heading level0 row5\" >284863</th>\n                        <td id=\"T_bd4b3aa4_1b79_11eb_a8ca_0242ac1c0002row5_col0\" class=\"data row5 col0\" >2013-07-01</td>\n                        <td id=\"T_bd4b3aa4_1b79_11eb_a8ca_0242ac1c0002row5_col1\" class=\"data row5 col1\" >38.234000</td>\n                        <td id=\"T_bd4b3aa4_1b79_11eb_a8ca_0242ac1c0002row5_col2\" class=\"data row5 col2\" >0.454000</td>\n                        <td id=\"T_bd4b3aa4_1b79_11eb_a8ca_0242ac1c0002row5_col3\" class=\"data row5 col3\" >Kuwait</td>\n            </tr>\n            <tr>\n                        <th id=\"T_bd4b3aa4_1b79_11eb_a8ca_0242ac1c0002level0_row6\" class=\"row_heading level0 row6\" >284839</th>\n                        <td id=\"T_bd4b3aa4_1b79_11eb_a8ca_0242ac1c0002row6_col0\" class=\"data row6 col0\" >2011-07-01</td>\n                        <td id=\"T_bd4b3aa4_1b79_11eb_a8ca_0242ac1c0002row6_col1\" class=\"data row6 col1\" >38.156000</td>\n                        <td id=\"T_bd4b3aa4_1b79_11eb_a8ca_0242ac1c0002row6_col2\" class=\"data row6 col2\" >0.375000</td>\n                        <td id=\"T_bd4b3aa4_1b79_11eb_a8ca_0242ac1c0002row6_col3\" class=\"data row6 col3\" >Kuwait</td>\n            </tr>\n            <tr>\n                        <th id=\"T_bd4b3aa4_1b79_11eb_a8ca_0242ac1c0002level0_row7\" class=\"row_heading level0 row7\" >284696</th>\n                        <td id=\"T_bd4b3aa4_1b79_11eb_a8ca_0242ac1c0002row7_col0\" class=\"data row7 col0\" >1999-08-01</td>\n                        <td id=\"T_bd4b3aa4_1b79_11eb_a8ca_0242ac1c0002row7_col1\" class=\"data row7 col1\" >38.153000</td>\n                        <td id=\"T_bd4b3aa4_1b79_11eb_a8ca_0242ac1c0002row7_col2\" class=\"data row7 col2\" >0.442000</td>\n                        <td id=\"T_bd4b3aa4_1b79_11eb_a8ca_0242ac1c0002row7_col3\" class=\"data row7 col3\" >Kuwait</td>\n            </tr>\n            <tr>\n                        <th id=\"T_bd4b3aa4_1b79_11eb_a8ca_0242ac1c0002level0_row8\" class=\"row_heading level0 row8\" >284780</th>\n                        <td id=\"T_bd4b3aa4_1b79_11eb_a8ca_0242ac1c0002row8_col0\" class=\"data row8 col0\" >2006-08-01</td>\n                        <td id=\"T_bd4b3aa4_1b79_11eb_a8ca_0242ac1c0002row8_col1\" class=\"data row8 col1\" >38.100000</td>\n                        <td id=\"T_bd4b3aa4_1b79_11eb_a8ca_0242ac1c0002row8_col2\" class=\"data row8 col2\" >0.790000</td>\n                        <td id=\"T_bd4b3aa4_1b79_11eb_a8ca_0242ac1c0002row8_col3\" class=\"data row8 col3\" >Kuwait</td>\n            </tr>\n            <tr>\n                        <th id=\"T_bd4b3aa4_1b79_11eb_a8ca_0242ac1c0002level0_row9\" class=\"row_heading level0 row9\" >284731</th>\n                        <td id=\"T_bd4b3aa4_1b79_11eb_a8ca_0242ac1c0002row9_col0\" class=\"data row9 col0\" >2002-07-01</td>\n                        <td id=\"T_bd4b3aa4_1b79_11eb_a8ca_0242ac1c0002row9_col1\" class=\"data row9 col1\" >38.042000</td>\n                        <td id=\"T_bd4b3aa4_1b79_11eb_a8ca_0242ac1c0002row9_col2\" class=\"data row9 col2\" >0.346000</td>\n                        <td id=\"T_bd4b3aa4_1b79_11eb_a8ca_0242ac1c0002row9_col3\" class=\"data row9 col3\" >Kuwait</td>\n            </tr>\n    </tbody></table>",
                "text/plain": "<pandas.io.formats.style.Styler at 0x7f08422a8748>"
              }
            ],
            "_view_module": "@jupyter-widgets/output",
            "_model_module_version": "1.0.0",
            "_view_count": null,
            "_view_module_version": "1.0.0",
            "layout": "IPY_MODEL_cb1f6c836e61483185edfc2897624c1a",
            "_model_module": "@jupyter-widgets/output"
          }
        },
        "6752d6891cab46bda2354cb16ae5c607": {
          "model_module": "@jupyter-widgets/controls",
          "model_name": "DescriptionStyleModel",
          "state": {
            "_view_name": "StyleView",
            "_model_name": "DescriptionStyleModel",
            "description_width": "",
            "_view_module": "@jupyter-widgets/base",
            "_model_module_version": "1.5.0",
            "_view_count": null,
            "_view_module_version": "1.2.0",
            "_model_module": "@jupyter-widgets/controls"
          }
        },
        "54fc93e327274460aecc8fabec003519": {
          "model_module": "@jupyter-widgets/base",
          "model_name": "LayoutModel",
          "state": {
            "_view_name": "LayoutView",
            "grid_template_rows": null,
            "right": null,
            "justify_content": null,
            "_view_module": "@jupyter-widgets/base",
            "overflow": null,
            "_model_module_version": "1.2.0",
            "_view_count": null,
            "flex_flow": null,
            "width": null,
            "min_width": null,
            "border": null,
            "align_items": null,
            "bottom": null,
            "_model_module": "@jupyter-widgets/base",
            "top": null,
            "grid_column": null,
            "overflow_y": null,
            "overflow_x": null,
            "grid_auto_flow": null,
            "grid_area": null,
            "grid_template_columns": null,
            "flex": null,
            "_model_name": "LayoutModel",
            "justify_items": null,
            "grid_row": null,
            "max_height": null,
            "align_content": null,
            "visibility": null,
            "align_self": null,
            "height": null,
            "min_height": null,
            "padding": null,
            "grid_auto_rows": null,
            "grid_gap": null,
            "max_width": null,
            "order": null,
            "_view_module_version": "1.2.0",
            "grid_template_areas": null,
            "object_position": null,
            "object_fit": null,
            "grid_auto_columns": null,
            "margin": null,
            "display": null,
            "left": null
          }
        },
        "cb1f6c836e61483185edfc2897624c1a": {
          "model_module": "@jupyter-widgets/base",
          "model_name": "LayoutModel",
          "state": {
            "_view_name": "LayoutView",
            "grid_template_rows": null,
            "right": null,
            "justify_content": null,
            "_view_module": "@jupyter-widgets/base",
            "overflow": null,
            "_model_module_version": "1.2.0",
            "_view_count": null,
            "flex_flow": null,
            "width": null,
            "min_width": null,
            "border": null,
            "align_items": null,
            "bottom": null,
            "_model_module": "@jupyter-widgets/base",
            "top": null,
            "grid_column": null,
            "overflow_y": null,
            "overflow_x": null,
            "grid_auto_flow": null,
            "grid_area": null,
            "grid_template_columns": null,
            "flex": null,
            "_model_name": "LayoutModel",
            "justify_items": null,
            "grid_row": null,
            "max_height": null,
            "align_content": null,
            "visibility": null,
            "align_self": null,
            "height": null,
            "min_height": null,
            "padding": null,
            "grid_auto_rows": null,
            "grid_gap": null,
            "max_width": null,
            "order": null,
            "_view_module_version": "1.2.0",
            "grid_template_areas": null,
            "object_position": null,
            "object_fit": null,
            "grid_auto_columns": null,
            "margin": null,
            "display": null,
            "left": null
          }
        },
        "212ca41e73994d58ab02efbe6dcb9602": {
          "model_module": "@jupyter-widgets/controls",
          "model_name": "VBoxModel",
          "state": {
            "_view_name": "VBoxView",
            "_dom_classes": [],
            "_model_name": "VBoxModel",
            "_view_module": "@jupyter-widgets/controls",
            "_model_module_version": "1.5.0",
            "_view_count": null,
            "_view_module_version": "1.5.0",
            "box_style": "",
            "layout": "IPY_MODEL_d4531d1dfee84b649bb6f45cc9fd81c9",
            "_model_module": "@jupyter-widgets/controls",
            "children": [
              "IPY_MODEL_cbd8a87cc6ed493eac2abb62ac3e94a6"
            ]
          }
        },
        "d4531d1dfee84b649bb6f45cc9fd81c9": {
          "model_module": "@jupyter-widgets/base",
          "model_name": "LayoutModel",
          "state": {
            "_view_name": "LayoutView",
            "grid_template_rows": null,
            "right": null,
            "justify_content": null,
            "_view_module": "@jupyter-widgets/base",
            "overflow": null,
            "_model_module_version": "1.2.0",
            "_view_count": null,
            "flex_flow": null,
            "width": null,
            "min_width": null,
            "border": "solid 2px green",
            "align_items": null,
            "bottom": null,
            "_model_module": "@jupyter-widgets/base",
            "top": null,
            "grid_column": null,
            "overflow_y": null,
            "overflow_x": null,
            "grid_auto_flow": null,
            "grid_area": null,
            "grid_template_columns": null,
            "flex": null,
            "_model_name": "LayoutModel",
            "justify_items": null,
            "grid_row": null,
            "max_height": null,
            "align_content": null,
            "visibility": null,
            "align_self": null,
            "height": null,
            "min_height": null,
            "padding": null,
            "grid_auto_rows": null,
            "grid_gap": null,
            "max_width": null,
            "order": null,
            "_view_module_version": "1.2.0",
            "grid_template_areas": null,
            "object_position": null,
            "object_fit": null,
            "grid_auto_columns": null,
            "margin": null,
            "display": "none",
            "left": null
          }
        },
        "cbd8a87cc6ed493eac2abb62ac3e94a6": {
          "model_module": "plotlywidget",
          "model_name": "FigureModel",
          "state": {
            "_view_name": "FigureView",
            "_py2js_animate": {},
            "_py2js_removeLayoutProps": {},
            "_last_trace_edit_id": 0,
            "_view_module": "plotlywidget",
            "_model_module_version": "^1.4.0",
            "_view_count": 0,
            "_js2py_relayout": {},
            "_py2js_moveTraces": {},
            "_py2js_addTraces": {},
            "_model_module": "plotlywidget",
            "_py2js_relayout": null,
            "_js2py_pointsCallback": {},
            "_js2py_update": {},
            "_js2py_restyle": {},
            "_py2js_removeTraceProps": {},
            "_py2js_deleteTraces": {},
            "_dom_classes": [],
            "_model_name": "FigureModel",
            "_layout": {},
            "_js2py_layoutDelta": {},
            "_py2js_update": {},
            "_data": [],
            "_config": {
              "plotlyServerURL": "https://plot.ly"
            },
            "_py2js_restyle": {},
            "_view_module_version": "^1.4.0",
            "_last_layout_edit_id": 0,
            "_js2py_traceDeltas": {}
          }
        },
        "d90011c4a2704c4784a345d7b86f7667": {
          "model_module": "@jupyter-widgets/controls",
          "model_name": "VBoxModel",
          "state": {
            "_view_name": "VBoxView",
            "_dom_classes": [
              "widget-interact"
            ],
            "_model_name": "VBoxModel",
            "_view_module": "@jupyter-widgets/controls",
            "_model_module_version": "1.5.0",
            "_view_count": null,
            "_view_module_version": "1.5.0",
            "box_style": "",
            "layout": "IPY_MODEL_449662f02bee44a1851f2f1eb05b6d3b",
            "_model_module": "@jupyter-widgets/controls",
            "children": [
              "IPY_MODEL_00700caaa880414b9280dfab5734ffae",
              "IPY_MODEL_61a58ea6ba824784bc743e6628e109de"
            ]
          }
        },
        "449662f02bee44a1851f2f1eb05b6d3b": {
          "model_module": "@jupyter-widgets/base",
          "model_name": "LayoutModel",
          "state": {
            "_view_name": "LayoutView",
            "grid_template_rows": null,
            "right": null,
            "justify_content": null,
            "_view_module": "@jupyter-widgets/base",
            "overflow": null,
            "_model_module_version": "1.2.0",
            "_view_count": null,
            "flex_flow": null,
            "width": null,
            "min_width": null,
            "border": null,
            "align_items": null,
            "bottom": null,
            "_model_module": "@jupyter-widgets/base",
            "top": null,
            "grid_column": null,
            "overflow_y": null,
            "overflow_x": null,
            "grid_auto_flow": null,
            "grid_area": null,
            "grid_template_columns": null,
            "flex": null,
            "_model_name": "LayoutModel",
            "justify_items": null,
            "grid_row": null,
            "max_height": null,
            "align_content": null,
            "visibility": null,
            "align_self": null,
            "height": null,
            "min_height": null,
            "padding": null,
            "grid_auto_rows": null,
            "grid_gap": null,
            "max_width": null,
            "order": null,
            "_view_module_version": "1.2.0",
            "grid_template_areas": null,
            "object_position": null,
            "object_fit": null,
            "grid_auto_columns": null,
            "margin": null,
            "display": null,
            "left": null
          }
        },
        "00700caaa880414b9280dfab5734ffae": {
          "model_module": "@jupyter-widgets/controls",
          "model_name": "IntSliderModel",
          "state": {
            "_view_name": "IntSliderView",
            "style": "IPY_MODEL_027b1e7eaad549218cdb442a8684f7c8",
            "_dom_classes": [],
            "description": "n",
            "step": 1,
            "_model_name": "IntSliderModel",
            "orientation": "horizontal",
            "max": 300,
            "_view_module": "@jupyter-widgets/controls",
            "_model_module_version": "1.5.0",
            "value": 100,
            "_view_count": null,
            "disabled": false,
            "_view_module_version": "1.5.0",
            "min": -100,
            "continuous_update": true,
            "readout_format": "d",
            "description_tooltip": null,
            "readout": true,
            "_model_module": "@jupyter-widgets/controls",
            "layout": "IPY_MODEL_0433005c46d74e0eb3409264fcf94f20"
          }
        },
        "61a58ea6ba824784bc743e6628e109de": {
          "model_module": "@jupyter-widgets/output",
          "model_name": "OutputModel",
          "state": {
            "_view_name": "OutputView",
            "msg_id": "",
            "_dom_classes": [],
            "_model_name": "OutputModel",
            "outputs": [
              {
                "output_type": "display_data",
                "metadata": {
                  "tags": []
                },
                "text/html": "<html>\n<head><meta charset=\"utf-8\" /></head>\n<body>\n    <div>\n            <script src=\"https://cdnjs.cloudflare.com/ajax/libs/mathjax/2.7.5/MathJax.js?config=TeX-AMS-MML_SVG\"></script><script type=\"text/javascript\">if (window.MathJax) {MathJax.Hub.Config({SVG: {font: \"STIX-Web\"}});}</script>\n                <script type=\"text/javascript\">window.PlotlyConfig = {MathJaxConfig: 'local'};</script>\n        <script src=\"https://cdn.plot.ly/plotly-latest.min.js\"></script>    \n            <div id=\"c8586da7-7537-494d-8437-d8d1509054c5\" class=\"plotly-graph-div\" style=\"height:525px; width:700px;\"></div>\n            <script type=\"text/javascript\">\n                \n                    window.PLOTLYENV=window.PLOTLYENV || {};\n                    \n                if (document.getElementById(\"c8586da7-7537-494d-8437-d8d1509054c5\")) {\n                    Plotly.newPlot(\n                        'c8586da7-7537-494d-8437-d8d1509054c5',\n                        [{\"hoverlabel\": {\"namelength\": 0}, \"hovertemplate\": \"<b>%{hovertext}</b><br><br>Country=%{x}<br>AverageTemperature=%{y}<br>AverageTemperatureUncertainty=%{marker.size}\", \"hovertext\": [\"Kuwait\", \"Kuwait\", \"Kuwait\", \"Kuwait\", \"Kuwait\", \"Kuwait\", \"Kuwait\", \"Kuwait\", \"Kuwait\", \"Kuwait\", \"Kuwait\", \"Kuwait\", \"Kuwait\", \"Kuwait\", \"Kuwait\", \"Kuwait\", \"Kuwait\", \"Kuwait\", \"Kuwait\", \"Kuwait\", \"Kuwait\", \"Kuwait\", \"Kuwait\", \"Kuwait\", \"Kuwait\", \"Kuwait\", \"Kuwait\", \"Kuwait\", \"Kuwait\", \"Kuwait\", \"Kuwait\", \"Kuwait\", \"Kuwait\", \"Kuwait\", \"Kuwait\", \"Kuwait\", \"Kuwait\", \"Kuwait\", \"Kuwait\", \"Kuwait\", \"Kuwait\", \"Kuwait\", \"Kuwait\", \"Kuwait\", \"Kuwait\", \"Kuwait\", \"Kuwait\", \"Kuwait\", \"Kuwait\", \"Kuwait\", \"Kuwait\", \"Kuwait\", \"Kuwait\", \"Kuwait\", \"Kuwait\"], \"legendgroup\": \"Country=Kuwait\", \"marker\": {\"color\": \"#636efa\", \"size\": [0.46399999999999997, 0.467, 0.498, 0.353, 0.593, 0.45399999999999996, 0.375, 0.442, 0.79, 0.34600000000000003, 0.6609999999999999, 1.001, 0.336, 0.711, 0.759, 0.536, 0.396, 0.518, 0.863, 1.992, 0.245, 0.47, 0.316, 0.349, 0.722, 0.5760000000000001, 0.271, 0.475, 0.5760000000000001, 0.3720000000000001, 0.3720000000000001, 0.289, 0.175, 2.103, 1.6469999999999998, 0.264, 2.1390000000000002, 0.9159999999999999, 0.38799999999999996, 0.836, 0.628, 1.139, 0.358, 0.36200000000000004, 0.341, 0.519, 0.6459999999999999, 0.386, 2.198, 0.5670000000000001, 1.3219999999999998, 0.55, 1.889, 0.503, 0.693], \"sizemode\": \"area\", \"sizeref\": 0.0006105555555555556, \"symbol\": \"circle\"}, \"mode\": \"markers\", \"name\": \"Country=Kuwait\", \"showlegend\": true, \"type\": \"scatter\", \"x\": [\"Kuwait\", \"Kuwait\", \"Kuwait\", \"Kuwait\", \"Kuwait\", \"Kuwait\", \"Kuwait\", \"Kuwait\", \"Kuwait\", \"Kuwait\", \"Kuwait\", \"Kuwait\", \"Kuwait\", \"Kuwait\", \"Kuwait\", \"Kuwait\", \"Kuwait\", \"Kuwait\", \"Kuwait\", \"Kuwait\", \"Kuwait\", \"Kuwait\", \"Kuwait\", \"Kuwait\", \"Kuwait\", \"Kuwait\", \"Kuwait\", \"Kuwait\", \"Kuwait\", \"Kuwait\", \"Kuwait\", \"Kuwait\", \"Kuwait\", \"Kuwait\", \"Kuwait\", \"Kuwait\", \"Kuwait\", \"Kuwait\", \"Kuwait\", \"Kuwait\", \"Kuwait\", \"Kuwait\", \"Kuwait\", \"Kuwait\", \"Kuwait\", \"Kuwait\", \"Kuwait\", \"Kuwait\", \"Kuwait\", \"Kuwait\", \"Kuwait\", \"Kuwait\", \"Kuwait\", \"Kuwait\", \"Kuwait\"], \"xaxis\": \"x\", \"y\": [38.84200000000001, 38.70500000000001, 38.49500000000001, 38.436, 38.315, 38.234, 38.15600000000001, 38.153, 38.1, 38.042, 38.032, 38.02, 38.02, 37.791, 37.789, 37.774, 37.752, 37.671, 37.645, 37.642, 37.642, 37.581, 37.566, 37.49, 37.45, 37.422, 37.422, 37.41, 37.39400000000001, 37.359, 37.346, 37.304, 37.302, 37.261, 37.26000000000001, 37.242, 37.241, 37.189, 37.165000000000006, 37.14, 37.133, 37.045, 36.966, 36.957, 36.956, 36.93, 36.919000000000004, 36.919000000000004, 36.907, 36.903, 36.899, 36.858000000000004, 36.83600000000001, 36.807, 36.785], \"yaxis\": \"y\"}, {\"hoverlabel\": {\"namelength\": 0}, \"hovertemplate\": \"<b>%{hovertext}</b><br><br>Country=%{x}<br>AverageTemperature=%{y}<br>AverageTemperatureUncertainty=%{marker.size}\", \"hovertext\": [\"United Arab Emirates\", \"United Arab Emirates\", \"United Arab Emirates\", \"United Arab Emirates\", \"United Arab Emirates\", \"United Arab Emirates\", \"United Arab Emirates\", \"United Arab Emirates\", \"United Arab Emirates\", \"United Arab Emirates\", \"United Arab Emirates\", \"United Arab Emirates\", \"United Arab Emirates\", \"United Arab Emirates\", \"United Arab Emirates\", \"United Arab Emirates\", \"United Arab Emirates\", \"United Arab Emirates\", \"United Arab Emirates\", \"United Arab Emirates\", \"United Arab Emirates\", \"United Arab Emirates\", \"United Arab Emirates\"], \"legendgroup\": \"Country=United Arab Emirates\", \"marker\": {\"color\": \"#EF553B\", \"size\": [0.5710000000000001, 0.784, 0.48700000000000004, 0.46799999999999997, 0.605, 0.5710000000000001, 0.524, 1.075, 0.462, 0.335, 0.516, 1.6480000000000001, 0.466, 0.794, 0.335, 0.506, 0.39, 0.619, 0.226, 0.721, 0.325, 0.478, 0.28], \"sizemode\": \"area\", \"sizeref\": 0.0006105555555555556, \"symbol\": \"circle\"}, \"mode\": \"markers\", \"name\": \"Country=United Arab Emirates\", \"showlegend\": true, \"type\": \"scatter\", \"x\": [\"United Arab Emirates\", \"United Arab Emirates\", \"United Arab Emirates\", \"United Arab Emirates\", \"United Arab Emirates\", \"United Arab Emirates\", \"United Arab Emirates\", \"United Arab Emirates\", \"United Arab Emirates\", \"United Arab Emirates\", \"United Arab Emirates\", \"United Arab Emirates\", \"United Arab Emirates\", \"United Arab Emirates\", \"United Arab Emirates\", \"United Arab Emirates\", \"United Arab Emirates\", \"United Arab Emirates\", \"United Arab Emirates\", \"United Arab Emirates\", \"United Arab Emirates\", \"United Arab Emirates\", \"United Arab Emirates\"], \"xaxis\": \"x\", \"y\": [37.75, 37.713, 37.48500000000001, 37.423, 37.361, 37.343, 37.289, 37.288000000000004, 37.264, 37.243, 37.214, 37.11600000000001, 37.064, 37.05800000000001, 37.034000000000006, 37.003, 36.986, 36.956, 36.892, 36.816, 36.798, 36.776, 36.77], \"yaxis\": \"y\"}, {\"hoverlabel\": {\"namelength\": 0}, \"hovertemplate\": \"<b>%{hovertext}</b><br><br>Country=%{x}<br>AverageTemperature=%{y}<br>AverageTemperatureUncertainty=%{marker.size}\", \"hovertext\": [\"Qatar\", \"Qatar\", \"Qatar\", \"Qatar\", \"Qatar\", \"Qatar\", \"Qatar\", \"Qatar\", \"Qatar\", \"Qatar\", \"Qatar\", \"Qatar\"], \"legendgroup\": \"Country=Qatar\", \"marker\": {\"color\": \"#00cc96\", \"size\": [0.772, 0.382, 1.1520000000000001, 0.853, 0.76, 0.905, 1.1340000000000001, 0.72, 0.4270000000000001, 0.902, 0.45899999999999996, 0.441], \"sizemode\": \"area\", \"sizeref\": 0.0006105555555555556, \"symbol\": \"circle\"}, \"mode\": \"markers\", \"name\": \"Country=Qatar\", \"showlegend\": true, \"type\": \"scatter\", \"x\": [\"Qatar\", \"Qatar\", \"Qatar\", \"Qatar\", \"Qatar\", \"Qatar\", \"Qatar\", \"Qatar\", \"Qatar\", \"Qatar\", \"Qatar\", \"Qatar\"], \"xaxis\": \"x\", \"y\": [37.603, 37.34, 37.07, 37.016999999999996, 36.981, 36.967, 36.946, 36.894, 36.845, 36.786, 36.766999999999996, 36.751], \"yaxis\": \"y\"}, {\"hoverlabel\": {\"namelength\": 0}, \"hovertemplate\": \"<b>%{hovertext}</b><br><br>Country=%{x}<br>AverageTemperature=%{y}<br>AverageTemperatureUncertainty=%{marker.size}\", \"hovertext\": [\"Bahrain\", \"Bahrain\", \"Bahrain\", \"Bahrain\", \"Bahrain\", \"Bahrain\", \"Bahrain\"], \"legendgroup\": \"Country=Bahrain\", \"marker\": {\"color\": \"#ab63fa\", \"size\": [0.5539999999999999, 0.4370000000000001, 0.489, 0.7559999999999999, 0.521, 0.568, 0.415], \"sizemode\": \"area\", \"sizeref\": 0.0006105555555555556, \"symbol\": \"circle\"}, \"mode\": \"markers\", \"name\": \"Country=Bahrain\", \"showlegend\": true, \"type\": \"scatter\", \"x\": [\"Bahrain\", \"Bahrain\", \"Bahrain\", \"Bahrain\", \"Bahrain\", \"Bahrain\", \"Bahrain\"], \"xaxis\": \"x\", \"y\": [37.471, 37.227, 36.985, 36.922, 36.797, 36.786, 36.776], \"yaxis\": \"y\"}, {\"hoverlabel\": {\"namelength\": 0}, \"hovertemplate\": \"<b>%{hovertext}</b><br><br>Country=%{x}<br>AverageTemperature=%{y}<br>AverageTemperatureUncertainty=%{marker.size}\", \"hovertext\": [\"Iraq\", \"Iraq\", \"Iraq\"], \"legendgroup\": \"Country=Iraq\", \"marker\": {\"color\": \"#FFA15A\", \"size\": [0.385, 0.201, 0.13699999999999998], \"sizemode\": \"area\", \"sizeref\": 0.0006105555555555556, \"symbol\": \"circle\"}, \"mode\": \"markers\", \"name\": \"Country=Iraq\", \"showlegend\": true, \"type\": \"scatter\", \"x\": [\"Iraq\", \"Iraq\", \"Iraq\"], \"xaxis\": \"x\", \"y\": [37.401, 37.165, 36.81], \"yaxis\": \"y\"}],\n                        {\"legend\": {\"itemsizing\": \"constant\", \"tracegroupgap\": 0}, \"margin\": {\"t\": 60}, \"template\": {\"data\": {\"bar\": [{\"error_x\": {\"color\": \"#2a3f5f\"}, \"error_y\": {\"color\": \"#2a3f5f\"}, \"marker\": {\"line\": {\"color\": \"#E5ECF6\", \"width\": 0.5}}, \"type\": \"bar\"}], \"barpolar\": [{\"marker\": {\"line\": {\"color\": \"#E5ECF6\", \"width\": 0.5}}, \"type\": \"barpolar\"}], \"carpet\": [{\"aaxis\": {\"endlinecolor\": \"#2a3f5f\", \"gridcolor\": \"white\", \"linecolor\": \"white\", \"minorgridcolor\": \"white\", \"startlinecolor\": \"#2a3f5f\"}, \"baxis\": {\"endlinecolor\": \"#2a3f5f\", \"gridcolor\": \"white\", \"linecolor\": \"white\", \"minorgridcolor\": \"white\", \"startlinecolor\": \"#2a3f5f\"}, \"type\": \"carpet\"}], \"choropleth\": [{\"colorbar\": {\"outlinewidth\": 0, \"ticks\": \"\"}, \"type\": \"choropleth\"}], \"contour\": [{\"colorbar\": {\"outlinewidth\": 0, \"ticks\": \"\"}, \"colorscale\": [[0.0, \"#0d0887\"], [0.1111111111111111, \"#46039f\"], [0.2222222222222222, \"#7201a8\"], [0.3333333333333333, \"#9c179e\"], [0.4444444444444444, \"#bd3786\"], [0.5555555555555556, \"#d8576b\"], [0.6666666666666666, \"#ed7953\"], [0.7777777777777778, \"#fb9f3a\"], [0.8888888888888888, \"#fdca26\"], [1.0, \"#f0f921\"]], \"type\": \"contour\"}], \"contourcarpet\": [{\"colorbar\": {\"outlinewidth\": 0, \"ticks\": \"\"}, \"type\": \"contourcarpet\"}], \"heatmap\": [{\"colorbar\": {\"outlinewidth\": 0, \"ticks\": \"\"}, \"colorscale\": [[0.0, \"#0d0887\"], [0.1111111111111111, \"#46039f\"], [0.2222222222222222, \"#7201a8\"], [0.3333333333333333, \"#9c179e\"], [0.4444444444444444, \"#bd3786\"], [0.5555555555555556, \"#d8576b\"], [0.6666666666666666, \"#ed7953\"], [0.7777777777777778, \"#fb9f3a\"], [0.8888888888888888, \"#fdca26\"], [1.0, \"#f0f921\"]], \"type\": \"heatmap\"}], \"heatmapgl\": [{\"colorbar\": {\"outlinewidth\": 0, \"ticks\": \"\"}, \"colorscale\": [[0.0, \"#0d0887\"], [0.1111111111111111, \"#46039f\"], [0.2222222222222222, \"#7201a8\"], [0.3333333333333333, \"#9c179e\"], [0.4444444444444444, \"#bd3786\"], [0.5555555555555556, \"#d8576b\"], [0.6666666666666666, \"#ed7953\"], [0.7777777777777778, \"#fb9f3a\"], [0.8888888888888888, \"#fdca26\"], [1.0, \"#f0f921\"]], \"type\": \"heatmapgl\"}], \"histogram\": [{\"marker\": {\"colorbar\": {\"outlinewidth\": 0, \"ticks\": \"\"}}, \"type\": \"histogram\"}], \"histogram2d\": [{\"colorbar\": {\"outlinewidth\": 0, \"ticks\": \"\"}, \"colorscale\": [[0.0, \"#0d0887\"], [0.1111111111111111, \"#46039f\"], [0.2222222222222222, \"#7201a8\"], [0.3333333333333333, \"#9c179e\"], [0.4444444444444444, \"#bd3786\"], [0.5555555555555556, \"#d8576b\"], [0.6666666666666666, \"#ed7953\"], [0.7777777777777778, \"#fb9f3a\"], [0.8888888888888888, \"#fdca26\"], [1.0, \"#f0f921\"]], \"type\": \"histogram2d\"}], \"histogram2dcontour\": [{\"colorbar\": {\"outlinewidth\": 0, \"ticks\": \"\"}, \"colorscale\": [[0.0, \"#0d0887\"], [0.1111111111111111, \"#46039f\"], [0.2222222222222222, \"#7201a8\"], [0.3333333333333333, \"#9c179e\"], [0.4444444444444444, \"#bd3786\"], [0.5555555555555556, \"#d8576b\"], [0.6666666666666666, \"#ed7953\"], [0.7777777777777778, \"#fb9f3a\"], [0.8888888888888888, \"#fdca26\"], [1.0, \"#f0f921\"]], \"type\": \"histogram2dcontour\"}], \"mesh3d\": [{\"colorbar\": {\"outlinewidth\": 0, \"ticks\": \"\"}, \"type\": \"mesh3d\"}], \"parcoords\": [{\"line\": {\"colorbar\": {\"outlinewidth\": 0, \"ticks\": \"\"}}, \"type\": \"parcoords\"}], \"pie\": [{\"automargin\": true, \"type\": \"pie\"}], \"scatter\": [{\"marker\": {\"colorbar\": {\"outlinewidth\": 0, \"ticks\": \"\"}}, \"type\": \"scatter\"}], \"scatter3d\": [{\"line\": {\"colorbar\": {\"outlinewidth\": 0, \"ticks\": \"\"}}, \"marker\": {\"colorbar\": {\"outlinewidth\": 0, \"ticks\": \"\"}}, \"type\": \"scatter3d\"}], \"scattercarpet\": [{\"marker\": {\"colorbar\": {\"outlinewidth\": 0, \"ticks\": \"\"}}, \"type\": \"scattercarpet\"}], \"scattergeo\": [{\"marker\": {\"colorbar\": {\"outlinewidth\": 0, \"ticks\": \"\"}}, \"type\": \"scattergeo\"}], \"scattergl\": [{\"marker\": {\"colorbar\": {\"outlinewidth\": 0, \"ticks\": \"\"}}, \"type\": \"scattergl\"}], \"scattermapbox\": [{\"marker\": {\"colorbar\": {\"outlinewidth\": 0, \"ticks\": \"\"}}, \"type\": \"scattermapbox\"}], \"scatterpolar\": [{\"marker\": {\"colorbar\": {\"outlinewidth\": 0, \"ticks\": \"\"}}, \"type\": \"scatterpolar\"}], \"scatterpolargl\": [{\"marker\": {\"colorbar\": {\"outlinewidth\": 0, \"ticks\": \"\"}}, \"type\": \"scatterpolargl\"}], \"scatterternary\": [{\"marker\": {\"colorbar\": {\"outlinewidth\": 0, \"ticks\": \"\"}}, \"type\": \"scatterternary\"}], \"surface\": [{\"colorbar\": {\"outlinewidth\": 0, \"ticks\": \"\"}, \"colorscale\": [[0.0, \"#0d0887\"], [0.1111111111111111, \"#46039f\"], [0.2222222222222222, \"#7201a8\"], [0.3333333333333333, \"#9c179e\"], [0.4444444444444444, \"#bd3786\"], [0.5555555555555556, \"#d8576b\"], [0.6666666666666666, \"#ed7953\"], [0.7777777777777778, \"#fb9f3a\"], [0.8888888888888888, \"#fdca26\"], [1.0, \"#f0f921\"]], \"type\": \"surface\"}], \"table\": [{\"cells\": {\"fill\": {\"color\": \"#EBF0F8\"}, \"line\": {\"color\": \"white\"}}, \"header\": {\"fill\": {\"color\": \"#C8D4E3\"}, \"line\": {\"color\": \"white\"}}, \"type\": \"table\"}]}, \"layout\": {\"annotationdefaults\": {\"arrowcolor\": \"#2a3f5f\", \"arrowhead\": 0, \"arrowwidth\": 1}, \"coloraxis\": {\"colorbar\": {\"outlinewidth\": 0, \"ticks\": \"\"}}, \"colorscale\": {\"diverging\": [[0, \"#8e0152\"], [0.1, \"#c51b7d\"], [0.2, \"#de77ae\"], [0.3, \"#f1b6da\"], [0.4, \"#fde0ef\"], [0.5, \"#f7f7f7\"], [0.6, \"#e6f5d0\"], [0.7, \"#b8e186\"], [0.8, \"#7fbc41\"], [0.9, \"#4d9221\"], [1, \"#276419\"]], \"sequential\": [[0.0, \"#0d0887\"], [0.1111111111111111, \"#46039f\"], [0.2222222222222222, \"#7201a8\"], [0.3333333333333333, \"#9c179e\"], [0.4444444444444444, \"#bd3786\"], [0.5555555555555556, \"#d8576b\"], [0.6666666666666666, \"#ed7953\"], [0.7777777777777778, \"#fb9f3a\"], [0.8888888888888888, \"#fdca26\"], [1.0, \"#f0f921\"]], \"sequentialminus\": [[0.0, \"#0d0887\"], [0.1111111111111111, \"#46039f\"], [0.2222222222222222, \"#7201a8\"], [0.3333333333333333, \"#9c179e\"], [0.4444444444444444, \"#bd3786\"], [0.5555555555555556, \"#d8576b\"], [0.6666666666666666, \"#ed7953\"], [0.7777777777777778, \"#fb9f3a\"], [0.8888888888888888, \"#fdca26\"], [1.0, \"#f0f921\"]]}, \"colorway\": [\"#636efa\", \"#EF553B\", \"#00cc96\", \"#ab63fa\", \"#FFA15A\", \"#19d3f3\", \"#FF6692\", \"#B6E880\", \"#FF97FF\", \"#FECB52\"], \"font\": {\"color\": \"#2a3f5f\"}, \"geo\": {\"bgcolor\": \"white\", \"lakecolor\": \"white\", \"landcolor\": \"#E5ECF6\", \"showlakes\": true, \"showland\": true, \"subunitcolor\": \"white\"}, \"hoverlabel\": {\"align\": \"left\"}, \"hovermode\": \"closest\", \"mapbox\": {\"style\": \"light\"}, \"paper_bgcolor\": \"white\", \"plot_bgcolor\": \"#E5ECF6\", \"polar\": {\"angularaxis\": {\"gridcolor\": \"white\", \"linecolor\": \"white\", \"ticks\": \"\"}, \"bgcolor\": \"#E5ECF6\", \"radialaxis\": {\"gridcolor\": \"white\", \"linecolor\": \"white\", \"ticks\": \"\"}}, \"scene\": {\"xaxis\": {\"backgroundcolor\": \"#E5ECF6\", \"gridcolor\": \"white\", \"gridwidth\": 2, \"linecolor\": \"white\", \"showbackground\": true, \"ticks\": \"\", \"zerolinecolor\": \"white\"}, \"yaxis\": {\"backgroundcolor\": \"#E5ECF6\", \"gridcolor\": \"white\", \"gridwidth\": 2, \"linecolor\": \"white\", \"showbackground\": true, \"ticks\": \"\", \"zerolinecolor\": \"white\"}, \"zaxis\": {\"backgroundcolor\": \"#E5ECF6\", \"gridcolor\": \"white\", \"gridwidth\": 2, \"linecolor\": \"white\", \"showbackground\": true, \"ticks\": \"\", \"zerolinecolor\": \"white\"}}, \"shapedefaults\": {\"line\": {\"color\": \"#2a3f5f\"}}, \"ternary\": {\"aaxis\": {\"gridcolor\": \"white\", \"linecolor\": \"white\", \"ticks\": \"\"}, \"baxis\": {\"gridcolor\": \"white\", \"linecolor\": \"white\", \"ticks\": \"\"}, \"bgcolor\": \"#E5ECF6\", \"caxis\": {\"gridcolor\": \"white\", \"linecolor\": \"white\", \"ticks\": \"\"}}, \"title\": {\"x\": 0.05}, \"xaxis\": {\"automargin\": true, \"gridcolor\": \"white\", \"linecolor\": \"white\", \"ticks\": \"\", \"title\": {\"standoff\": 15}, \"zerolinecolor\": \"white\", \"zerolinewidth\": 2}, \"yaxis\": {\"automargin\": true, \"gridcolor\": \"white\", \"linecolor\": \"white\", \"ticks\": \"\", \"title\": {\"standoff\": 15}, \"zerolinecolor\": \"white\", \"zerolinewidth\": 2}}}, \"title\": {\"text\": \"100 Worst hit countries\"}, \"width\": 700, \"xaxis\": {\"anchor\": \"y\", \"categoryarray\": [\"Kuwait\", \"United Arab Emirates\", \"Qatar\", \"Bahrain\", \"Iraq\"], \"categoryorder\": \"array\", \"domain\": [0.0, 1.0], \"title\": {\"text\": \"Countries\"}}, \"yaxis\": {\"anchor\": \"x\", \"domain\": [0.0, 1.0], \"title\": {\"text\": \"Average Temperature\"}}},\n                        {\"responsive\": true}\n                    ).then(function(){\n                            \nvar gd = document.getElementById('c8586da7-7537-494d-8437-d8d1509054c5');\nvar x = new MutationObserver(function (mutations, observer) {{\n        var display = window.getComputedStyle(gd).display;\n        if (!display || display === 'none') {{\n            console.log([gd, 'removed!']);\n            Plotly.purge(gd);\n            observer.disconnect();\n        }}\n}});\n\n// Listen for the removal of the full notebook cells\nvar notebookContainer = gd.closest('#notebook-container');\nif (notebookContainer) {{\n    x.observe(notebookContainer, {childList: true});\n}}\n\n// Listen for the clearing of the current output cell\nvar outputEl = gd.closest('.output');\nif (outputEl) {{\n    x.observe(outputEl, {childList: true});\n}}\n\n                        })\n                };\n                \n            </script>\n        </div>\n</body>\n</html>"
              }
            ],
            "_view_module": "@jupyter-widgets/output",
            "_model_module_version": "1.0.0",
            "_view_count": null,
            "_view_module_version": "1.0.0",
            "layout": "IPY_MODEL_8cea52aefe194e25b87431d7f8cb5d76",
            "_model_module": "@jupyter-widgets/output"
          }
        },
        "027b1e7eaad549218cdb442a8684f7c8": {
          "model_module": "@jupyter-widgets/controls",
          "model_name": "SliderStyleModel",
          "state": {
            "_view_name": "StyleView",
            "handle_color": null,
            "_model_name": "SliderStyleModel",
            "description_width": "",
            "_view_module": "@jupyter-widgets/base",
            "_model_module_version": "1.5.0",
            "_view_count": null,
            "_view_module_version": "1.2.0",
            "_model_module": "@jupyter-widgets/controls"
          }
        },
        "0433005c46d74e0eb3409264fcf94f20": {
          "model_module": "@jupyter-widgets/base",
          "model_name": "LayoutModel",
          "state": {
            "_view_name": "LayoutView",
            "grid_template_rows": null,
            "right": null,
            "justify_content": null,
            "_view_module": "@jupyter-widgets/base",
            "overflow": null,
            "_model_module_version": "1.2.0",
            "_view_count": null,
            "flex_flow": null,
            "width": null,
            "min_width": null,
            "border": null,
            "align_items": null,
            "bottom": null,
            "_model_module": "@jupyter-widgets/base",
            "top": null,
            "grid_column": null,
            "overflow_y": null,
            "overflow_x": null,
            "grid_auto_flow": null,
            "grid_area": null,
            "grid_template_columns": null,
            "flex": null,
            "_model_name": "LayoutModel",
            "justify_items": null,
            "grid_row": null,
            "max_height": null,
            "align_content": null,
            "visibility": null,
            "align_self": null,
            "height": null,
            "min_height": null,
            "padding": null,
            "grid_auto_rows": null,
            "grid_gap": null,
            "max_width": null,
            "order": null,
            "_view_module_version": "1.2.0",
            "grid_template_areas": null,
            "object_position": null,
            "object_fit": null,
            "grid_auto_columns": null,
            "margin": null,
            "display": null,
            "left": null
          }
        },
        "8cea52aefe194e25b87431d7f8cb5d76": {
          "model_module": "@jupyter-widgets/base",
          "model_name": "LayoutModel",
          "state": {
            "_view_name": "LayoutView",
            "grid_template_rows": null,
            "right": null,
            "justify_content": null,
            "_view_module": "@jupyter-widgets/base",
            "overflow": null,
            "_model_module_version": "1.2.0",
            "_view_count": null,
            "flex_flow": null,
            "width": null,
            "min_width": null,
            "border": null,
            "align_items": null,
            "bottom": null,
            "_model_module": "@jupyter-widgets/base",
            "top": null,
            "grid_column": null,
            "overflow_y": null,
            "overflow_x": null,
            "grid_auto_flow": null,
            "grid_area": null,
            "grid_template_columns": null,
            "flex": null,
            "_model_name": "LayoutModel",
            "justify_items": null,
            "grid_row": null,
            "max_height": null,
            "align_content": null,
            "visibility": null,
            "align_self": null,
            "height": null,
            "min_height": null,
            "padding": null,
            "grid_auto_rows": null,
            "grid_gap": null,
            "max_width": null,
            "order": null,
            "_view_module_version": "1.2.0",
            "grid_template_areas": null,
            "object_position": null,
            "object_fit": null,
            "grid_auto_columns": null,
            "margin": null,
            "display": null,
            "left": null
          }
        },
        "9a8d337ce3204215b237262ea0dd25a9": {
          "model_module": "@jupyter-widgets/controls",
          "model_name": "VBoxModel",
          "state": {
            "_view_name": "VBoxView",
            "_dom_classes": [],
            "_model_name": "VBoxModel",
            "_view_module": "@jupyter-widgets/controls",
            "_model_module_version": "1.5.0",
            "_view_count": null,
            "_view_module_version": "1.5.0",
            "box_style": "",
            "layout": "IPY_MODEL_92617839697447fea959e4bf32240186",
            "_model_module": "@jupyter-widgets/controls",
            "children": [
              "IPY_MODEL_cbd8a87cc6ed493eac2abb62ac3e94a6"
            ]
          }
        },
        "92617839697447fea959e4bf32240186": {
          "model_module": "@jupyter-widgets/base",
          "model_name": "LayoutModel",
          "state": {
            "_view_name": "LayoutView",
            "grid_template_rows": null,
            "right": null,
            "justify_content": null,
            "_view_module": "@jupyter-widgets/base",
            "overflow": null,
            "_model_module_version": "1.2.0",
            "_view_count": null,
            "flex_flow": null,
            "width": null,
            "min_width": null,
            "border": "solid 2px green",
            "align_items": null,
            "bottom": null,
            "_model_module": "@jupyter-widgets/base",
            "top": null,
            "grid_column": null,
            "overflow_y": null,
            "overflow_x": null,
            "grid_auto_flow": null,
            "grid_area": null,
            "grid_template_columns": null,
            "flex": null,
            "_model_name": "LayoutModel",
            "justify_items": null,
            "grid_row": null,
            "max_height": null,
            "align_content": null,
            "visibility": null,
            "align_self": null,
            "height": null,
            "min_height": null,
            "padding": null,
            "grid_auto_rows": null,
            "grid_gap": null,
            "max_width": null,
            "order": null,
            "_view_module_version": "1.2.0",
            "grid_template_areas": null,
            "object_position": null,
            "object_fit": null,
            "grid_auto_columns": null,
            "margin": null,
            "display": "none",
            "left": null
          }
        }
      }
    }
  },
  "cells": [
    {
      "cell_type": "markdown",
      "metadata": {
        "id": "cSVp84NivWeJ"
      },
      "source": [
        "# Global Warming Interactive Dashboard"
      ]
    },
    {
      "cell_type": "code",
      "metadata": {
        "id": "YQ4EoVgzvWeR"
      },
      "source": [
        "# importing libraries\n",
        "\n",
        "from __future__ import print_function\n",
        "from ipywidgets import interact, interactive, fixed, interact_manual\n",
        "from IPython.core.display import display, HTML\n",
        "\n",
        "import numpy as np\n",
        "import pandas as pd\n",
        "import matplotlib.pyplot as plt\n",
        "import plotly.express as px\n",
        "import folium\n",
        "import plotly.graph_objects as go\n",
        "import seaborn as sns\n",
        "import ipywidgets as widgets"
      ],
      "execution_count": 1,
      "outputs": []
    },
    {
      "cell_type": "code",
      "metadata": {
        "id": "asl9lqdKMP2L"
      },
      "source": [
        "climate_df = pd.read_csv(\"https://raw.githubusercontent.com/dnzengou/my-green-recommender/main/data/climate_change.csv\")"
      ],
      "execution_count": 2,
      "outputs": []
    },
    {
      "cell_type": "code",
      "metadata": {
        "id": "4XpnI29TTfNq"
      },
      "source": [
        "globalwarming_df = pd.read_csv(\"https://raw.githubusercontent.com/dnzengou/my-green-recommender/main/data/GlobalLandTemperaturesByCountry.csv\")"
      ],
      "execution_count": 3,
      "outputs": []
    },
    {
      "cell_type": "code",
      "metadata": {
        "id": "nupareQDNQ9x",
        "outputId": "f58ae64e-6c2d-4743-ffde-7f8fe2af0e5b",
        "colab": {
          "base_uri": "https://localhost:8080/",
          "height": 206
        }
      },
      "source": [
        "climate_df.head()"
      ],
      "execution_count": 4,
      "outputs": [
        {
          "output_type": "execute_result",
          "data": {
            "text/html": [
              "<div>\n",
              "<style scoped>\n",
              "    .dataframe tbody tr th:only-of-type {\n",
              "        vertical-align: middle;\n",
              "    }\n",
              "\n",
              "    .dataframe tbody tr th {\n",
              "        vertical-align: top;\n",
              "    }\n",
              "\n",
              "    .dataframe thead th {\n",
              "        text-align: right;\n",
              "    }\n",
              "</style>\n",
              "<table border=\"1\" class=\"dataframe\">\n",
              "  <thead>\n",
              "    <tr style=\"text-align: right;\">\n",
              "      <th></th>\n",
              "      <th>Year</th>\n",
              "      <th>Month</th>\n",
              "      <th>MEI</th>\n",
              "      <th>CO2</th>\n",
              "      <th>CH4</th>\n",
              "      <th>N2O</th>\n",
              "      <th>CFC-11</th>\n",
              "      <th>CFC-12</th>\n",
              "      <th>TSI</th>\n",
              "      <th>Aerosols</th>\n",
              "      <th>Temp</th>\n",
              "    </tr>\n",
              "  </thead>\n",
              "  <tbody>\n",
              "    <tr>\n",
              "      <th>0</th>\n",
              "      <td>1983</td>\n",
              "      <td>5</td>\n",
              "      <td>2.556</td>\n",
              "      <td>345.96</td>\n",
              "      <td>1638.59</td>\n",
              "      <td>303.677</td>\n",
              "      <td>191.324</td>\n",
              "      <td>350.113</td>\n",
              "      <td>1366.1024</td>\n",
              "      <td>0.0863</td>\n",
              "      <td>0.109</td>\n",
              "    </tr>\n",
              "    <tr>\n",
              "      <th>1</th>\n",
              "      <td>1983</td>\n",
              "      <td>6</td>\n",
              "      <td>2.167</td>\n",
              "      <td>345.52</td>\n",
              "      <td>1633.71</td>\n",
              "      <td>303.746</td>\n",
              "      <td>192.057</td>\n",
              "      <td>351.848</td>\n",
              "      <td>1366.1208</td>\n",
              "      <td>0.0794</td>\n",
              "      <td>0.118</td>\n",
              "    </tr>\n",
              "    <tr>\n",
              "      <th>2</th>\n",
              "      <td>1983</td>\n",
              "      <td>7</td>\n",
              "      <td>1.741</td>\n",
              "      <td>344.15</td>\n",
              "      <td>1633.22</td>\n",
              "      <td>303.795</td>\n",
              "      <td>192.818</td>\n",
              "      <td>353.725</td>\n",
              "      <td>1366.2850</td>\n",
              "      <td>0.0731</td>\n",
              "      <td>0.137</td>\n",
              "    </tr>\n",
              "    <tr>\n",
              "      <th>3</th>\n",
              "      <td>1983</td>\n",
              "      <td>8</td>\n",
              "      <td>1.130</td>\n",
              "      <td>342.25</td>\n",
              "      <td>1631.35</td>\n",
              "      <td>303.839</td>\n",
              "      <td>193.602</td>\n",
              "      <td>355.633</td>\n",
              "      <td>1366.4202</td>\n",
              "      <td>0.0673</td>\n",
              "      <td>0.176</td>\n",
              "    </tr>\n",
              "    <tr>\n",
              "      <th>4</th>\n",
              "      <td>1983</td>\n",
              "      <td>9</td>\n",
              "      <td>0.428</td>\n",
              "      <td>340.17</td>\n",
              "      <td>1648.40</td>\n",
              "      <td>303.901</td>\n",
              "      <td>194.392</td>\n",
              "      <td>357.465</td>\n",
              "      <td>1366.2335</td>\n",
              "      <td>0.0619</td>\n",
              "      <td>0.149</td>\n",
              "    </tr>\n",
              "  </tbody>\n",
              "</table>\n",
              "</div>"
            ],
            "text/plain": [
              "   Year  Month    MEI     CO2  ...   CFC-12        TSI  Aerosols   Temp\n",
              "0  1983      5  2.556  345.96  ...  350.113  1366.1024    0.0863  0.109\n",
              "1  1983      6  2.167  345.52  ...  351.848  1366.1208    0.0794  0.118\n",
              "2  1983      7  1.741  344.15  ...  353.725  1366.2850    0.0731  0.137\n",
              "3  1983      8  1.130  342.25  ...  355.633  1366.4202    0.0673  0.176\n",
              "4  1983      9  0.428  340.17  ...  357.465  1366.2335    0.0619  0.149\n",
              "\n",
              "[5 rows x 11 columns]"
            ]
          },
          "metadata": {
            "tags": []
          },
          "execution_count": 4
        }
      ]
    },
    {
      "cell_type": "code",
      "metadata": {
        "id": "ivyxtcE2YkXy",
        "outputId": "33cd4f53-14dc-422c-dfc0-677972801b68",
        "colab": {
          "base_uri": "https://localhost:8080/",
          "height": 206
        }
      },
      "source": [
        "globalwarming_df.tail()"
      ],
      "execution_count": 5,
      "outputs": [
        {
          "output_type": "execute_result",
          "data": {
            "text/html": [
              "<div>\n",
              "<style scoped>\n",
              "    .dataframe tbody tr th:only-of-type {\n",
              "        vertical-align: middle;\n",
              "    }\n",
              "\n",
              "    .dataframe tbody tr th {\n",
              "        vertical-align: top;\n",
              "    }\n",
              "\n",
              "    .dataframe thead th {\n",
              "        text-align: right;\n",
              "    }\n",
              "</style>\n",
              "<table border=\"1\" class=\"dataframe\">\n",
              "  <thead>\n",
              "    <tr style=\"text-align: right;\">\n",
              "      <th></th>\n",
              "      <th>dt</th>\n",
              "      <th>AverageTemperature</th>\n",
              "      <th>AverageTemperatureUncertainty</th>\n",
              "      <th>Country</th>\n",
              "    </tr>\n",
              "  </thead>\n",
              "  <tbody>\n",
              "    <tr>\n",
              "      <th>577457</th>\n",
              "      <td>2013-05-01</td>\n",
              "      <td>19.059</td>\n",
              "      <td>1.022</td>\n",
              "      <td>Zimbabwe</td>\n",
              "    </tr>\n",
              "    <tr>\n",
              "      <th>577458</th>\n",
              "      <td>2013-06-01</td>\n",
              "      <td>17.613</td>\n",
              "      <td>0.473</td>\n",
              "      <td>Zimbabwe</td>\n",
              "    </tr>\n",
              "    <tr>\n",
              "      <th>577459</th>\n",
              "      <td>2013-07-01</td>\n",
              "      <td>17.000</td>\n",
              "      <td>0.453</td>\n",
              "      <td>Zimbabwe</td>\n",
              "    </tr>\n",
              "    <tr>\n",
              "      <th>577460</th>\n",
              "      <td>2013-08-01</td>\n",
              "      <td>19.759</td>\n",
              "      <td>0.717</td>\n",
              "      <td>Zimbabwe</td>\n",
              "    </tr>\n",
              "    <tr>\n",
              "      <th>577461</th>\n",
              "      <td>2013-09-01</td>\n",
              "      <td>NaN</td>\n",
              "      <td>NaN</td>\n",
              "      <td>Zimbabwe</td>\n",
              "    </tr>\n",
              "  </tbody>\n",
              "</table>\n",
              "</div>"
            ],
            "text/plain": [
              "                dt  AverageTemperature  AverageTemperatureUncertainty   Country\n",
              "577457  2013-05-01              19.059                          1.022  Zimbabwe\n",
              "577458  2013-06-01              17.613                          0.473  Zimbabwe\n",
              "577459  2013-07-01              17.000                          0.453  Zimbabwe\n",
              "577460  2013-08-01              19.759                          0.717  Zimbabwe\n",
              "577461  2013-09-01                 NaN                            NaN  Zimbabwe"
            ]
          },
          "metadata": {
            "tags": []
          },
          "execution_count": 5
        }
      ]
    },
    {
      "cell_type": "code",
      "metadata": {
        "id": "i-Op1VnIcIKN",
        "outputId": "1248a80a-7e5a-49f2-b3de-549081b70163",
        "colab": {
          "base_uri": "https://localhost:8080/",
          "height": 206
        }
      },
      "source": [
        "globalwarming_clean=globalwarming_df.dropna()\n",
        "\n",
        "globalwarming_clean.head()"
      ],
      "execution_count": 6,
      "outputs": [
        {
          "output_type": "execute_result",
          "data": {
            "text/html": [
              "<div>\n",
              "<style scoped>\n",
              "    .dataframe tbody tr th:only-of-type {\n",
              "        vertical-align: middle;\n",
              "    }\n",
              "\n",
              "    .dataframe tbody tr th {\n",
              "        vertical-align: top;\n",
              "    }\n",
              "\n",
              "    .dataframe thead th {\n",
              "        text-align: right;\n",
              "    }\n",
              "</style>\n",
              "<table border=\"1\" class=\"dataframe\">\n",
              "  <thead>\n",
              "    <tr style=\"text-align: right;\">\n",
              "      <th></th>\n",
              "      <th>dt</th>\n",
              "      <th>AverageTemperature</th>\n",
              "      <th>AverageTemperatureUncertainty</th>\n",
              "      <th>Country</th>\n",
              "    </tr>\n",
              "  </thead>\n",
              "  <tbody>\n",
              "    <tr>\n",
              "      <th>0</th>\n",
              "      <td>1743-11-01</td>\n",
              "      <td>4.384</td>\n",
              "      <td>2.294</td>\n",
              "      <td>Åland</td>\n",
              "    </tr>\n",
              "    <tr>\n",
              "      <th>5</th>\n",
              "      <td>1744-04-01</td>\n",
              "      <td>1.530</td>\n",
              "      <td>4.680</td>\n",
              "      <td>Åland</td>\n",
              "    </tr>\n",
              "    <tr>\n",
              "      <th>6</th>\n",
              "      <td>1744-05-01</td>\n",
              "      <td>6.702</td>\n",
              "      <td>1.789</td>\n",
              "      <td>Åland</td>\n",
              "    </tr>\n",
              "    <tr>\n",
              "      <th>7</th>\n",
              "      <td>1744-06-01</td>\n",
              "      <td>11.609</td>\n",
              "      <td>1.577</td>\n",
              "      <td>Åland</td>\n",
              "    </tr>\n",
              "    <tr>\n",
              "      <th>8</th>\n",
              "      <td>1744-07-01</td>\n",
              "      <td>15.342</td>\n",
              "      <td>1.410</td>\n",
              "      <td>Åland</td>\n",
              "    </tr>\n",
              "  </tbody>\n",
              "</table>\n",
              "</div>"
            ],
            "text/plain": [
              "           dt  AverageTemperature  AverageTemperatureUncertainty Country\n",
              "0  1743-11-01               4.384                          2.294   Åland\n",
              "5  1744-04-01               1.530                          4.680   Åland\n",
              "6  1744-05-01               6.702                          1.789   Åland\n",
              "7  1744-06-01              11.609                          1.577   Åland\n",
              "8  1744-07-01              15.342                          1.410   Åland"
            ]
          },
          "metadata": {
            "tags": []
          },
          "execution_count": 6
        }
      ]
    },
    {
      "cell_type": "code",
      "metadata": {
        "id": "MmDKHi4eMwSE"
      },
      "source": [
        "# total number of co2, ch4, aerosols and temp increased globally\n",
        "co2_total = int(climate_df['CO2'].sum())\n",
        "ch4_total = int(climate_df['CH4'].sum())\n",
        "aerosols_total = int(climate_df['Aerosols'].sum())\n",
        "temp_total = int(climate_df['Temp'].sum())"
      ],
      "execution_count": 7,
      "outputs": []
    },
    {
      "cell_type": "code",
      "metadata": {
        "id": "Iu9WjssEchlW"
      },
      "source": [
        "#country = globalwarming_clean['Country'].unique()\n",
        "\n",
        "# total number of country and average temperature\n",
        "#globalwarming_mean = int(globalwarming_clean['AverageTemperature'].mean())\n",
        "#country_total = int(globalwarming_clean['Country'].sum())"
      ],
      "execution_count": 8,
      "outputs": []
    },
    {
      "cell_type": "code",
      "metadata": {
        "id": "kQZZdXPUvWfs",
        "outputId": "2c7500b8-77a6-4ed0-806b-e5e8f7563310",
        "colab": {
          "base_uri": "https://localhost:8080/",
          "height": 114
        }
      },
      "source": [
        "# displaying the total stats\n",
        "## background-color: #504e4e\n",
        "\n",
        "display(HTML(\"<div style = 'background-color: #e5e5e5; padding: 30px '>\" +\n",
        "             \"<span style='color: #255399; font-size:30px;'> CO2: <b>\"  + str(co2_total) +\"</b></span>\" +\n",
        "             \"<span style='color: red; font-size:30px;margin-left:20px;'> CH4: <b>\" + str(ch4_total) + \"</b></span>\"+\n",
        "             \"<span style='color: darkgreen; font-size:30px; margin-left:20px;'> Aerosols: <b>\" + str(aerosols_total) + \"</b></span>\"+\n",
        "             \"<span style='color: darkgreen; font-size:30px; margin-left:20px;'> Temp: <b>\" + str(temp_total) + \"</b></span>\"+\n",
        "             \"</div>\")\n",
        "       )"
      ],
      "execution_count": 9,
      "outputs": [
        {
          "output_type": "display_data",
          "data": {
            "text/html": [
              "<div style = 'background-color: #e5e5e5; padding: 30px '><span style='color: #255399; font-size:30px;'> CO2: <b>111873</b></span><span style='color: red; font-size:30px;margin-left:20px;'> CH4: <b>538945</b></span><span style='color: darkgreen; font-size:30px; margin-left:20px;'> Aerosols: <b>5</b></span><span style='color: darkgreen; font-size:30px; margin-left:20px;'> Temp: <b>79</b></span></div>"
            ],
            "text/plain": [
              "<IPython.core.display.HTML object>"
            ]
          },
          "metadata": {
            "tags": []
          }
        }
      ]
    },
    {
      "cell_type": "markdown",
      "metadata": {
        "id": "xFCdhxHlvWf2"
      },
      "source": [
        "# Average temperature by countries\n",
        "\n",
        "## Enter number of countries you want the data for"
      ]
    },
    {
      "cell_type": "code",
      "metadata": {
        "id": "myvW_ChImWnx"
      },
      "source": [
        "sorted_country = globalwarming_clean.sort_values('AverageTemperature', ascending= False)"
      ],
      "execution_count": 10,
      "outputs": []
    },
    {
      "cell_type": "code",
      "metadata": {
        "id": "zqgiF_7xmlQr",
        "outputId": "0c3bfce2-6fde-4443-b79e-04a2e6034e25",
        "colab": {
          "base_uri": "https://localhost:8080/",
          "height": 206
        }
      },
      "source": [
        "sorted_country.tail()"
      ],
      "execution_count": 11,
      "outputs": [
        {
          "output_type": "execute_result",
          "data": {
            "text/html": [
              "<div>\n",
              "<style scoped>\n",
              "    .dataframe tbody tr th:only-of-type {\n",
              "        vertical-align: middle;\n",
              "    }\n",
              "\n",
              "    .dataframe tbody tr th {\n",
              "        vertical-align: top;\n",
              "    }\n",
              "\n",
              "    .dataframe thead th {\n",
              "        text-align: right;\n",
              "    }\n",
              "</style>\n",
              "<table border=\"1\" class=\"dataframe\">\n",
              "  <thead>\n",
              "    <tr style=\"text-align: right;\">\n",
              "      <th></th>\n",
              "      <th>dt</th>\n",
              "      <th>AverageTemperature</th>\n",
              "      <th>AverageTemperatureUncertainty</th>\n",
              "      <th>Country</th>\n",
              "    </tr>\n",
              "  </thead>\n",
              "  <tbody>\n",
              "    <tr>\n",
              "      <th>210796</th>\n",
              "      <td>1898-02-01</td>\n",
              "      <td>-36.738</td>\n",
              "      <td>2.992</td>\n",
              "      <td>Greenland</td>\n",
              "    </tr>\n",
              "    <tr>\n",
              "      <th>143034</th>\n",
              "      <td>1868-02-01</td>\n",
              "      <td>-36.830</td>\n",
              "      <td>5.977</td>\n",
              "      <td>Denmark</td>\n",
              "    </tr>\n",
              "    <tr>\n",
              "      <th>211035</th>\n",
              "      <td>1918-01-01</td>\n",
              "      <td>-37.177</td>\n",
              "      <td>4.248</td>\n",
              "      <td>Greenland</td>\n",
              "    </tr>\n",
              "    <tr>\n",
              "      <th>210507</th>\n",
              "      <td>1874-01-01</td>\n",
              "      <td>-37.413</td>\n",
              "      <td>3.883</td>\n",
              "      <td>Greenland</td>\n",
              "    </tr>\n",
              "    <tr>\n",
              "      <th>210436</th>\n",
              "      <td>1868-02-01</td>\n",
              "      <td>-37.658</td>\n",
              "      <td>6.111</td>\n",
              "      <td>Greenland</td>\n",
              "    </tr>\n",
              "  </tbody>\n",
              "</table>\n",
              "</div>"
            ],
            "text/plain": [
              "                dt  ...    Country\n",
              "210796  1898-02-01  ...  Greenland\n",
              "143034  1868-02-01  ...    Denmark\n",
              "211035  1918-01-01  ...  Greenland\n",
              "210507  1874-01-01  ...  Greenland\n",
              "210436  1868-02-01  ...  Greenland\n",
              "\n",
              "[5 rows x 4 columns]"
            ]
          },
          "metadata": {
            "tags": []
          },
          "execution_count": 11
        }
      ]
    },
    {
      "cell_type": "code",
      "metadata": {
        "id": "YA-OcEBjYz_s",
        "outputId": "2f49c75d-fe4f-4fac-9726-800606096415",
        "colab": {
          "base_uri": "https://localhost:8080/",
          "height": 287,
          "referenced_widgets": [
            "d0cd22d61e6044d498871e0f26f2e4d1",
            "6961162f6eb344b3b1a3a13cb8567171",
            "7b8f98db746f44f3a5992ce72d8df377",
            "b1cd5dfdcf814b6097b16ae9e87b9d8f",
            "6752d6891cab46bda2354cb16ae5c607",
            "54fc93e327274460aecc8fabec003519",
            "cb1f6c836e61483185edfc2897624c1a",
            "212ca41e73994d58ab02efbe6dcb9602",
            "d4531d1dfee84b649bb6f45cc9fd81c9",
            "cbd8a87cc6ed493eac2abb62ac3e94a6"
          ]
        }
      },
      "source": [
        "# sorting the values by confirmed descednding order\n",
        "# country_df.sort_values('confirmed', ascending= False).head(10).style.background_gradient(cmap='copper')\n",
        "fig = go.FigureWidget( layout=go.Layout() )\n",
        "def highlightcol(x):\n",
        "    r = 'background-color: red'\n",
        "    df1 = pd.DataFrame('', index=x.index, columns=x.columns)\n",
        "    df1.iloc[:, 1] = r\n",
        "    \n",
        "    return df1\n",
        "\n",
        "def show_latest_increase(n):\n",
        "    n = int(n)\n",
        "    return sorted_country.sort_values('AverageTemperature', ascending= False).head(n).style.apply(highlightcol, axis=None)\n",
        "\n",
        "interact(show_latest_increase, n='10')\n",
        "\n",
        "ipywLayout = widgets.Layout(border='solid 2px green')\n",
        "ipywLayout.display='none' # uncomment this, run cell again - then the graph/figure disappears\n",
        "widgets.VBox([fig], layout=ipywLayout)"
      ],
      "execution_count": 12,
      "outputs": [
        {
          "output_type": "display_data",
          "data": {
            "application/vnd.jupyter.widget-view+json": {
              "model_id": "d0cd22d61e6044d498871e0f26f2e4d1",
              "version_minor": 0,
              "version_major": 2
            },
            "text/plain": [
              "interactive(children=(Text(value='10', description='n'), Output()), _dom_classes=('widget-interact',))"
            ]
          },
          "metadata": {
            "tags": []
          }
        },
        {
          "output_type": "display_data",
          "data": {
            "application/vnd.jupyter.widget-view+json": {
              "model_id": "212ca41e73994d58ab02efbe6dcb9602",
              "version_minor": 0,
              "version_major": 2
            },
            "text/plain": [
              "VBox(children=(FigureWidget({\n",
              "    'data': [], 'layout': {'template': '...'}\n",
              "}),), layout=Layout(border='solid …"
            ]
          },
          "metadata": {
            "tags": []
          }
        }
      ]
    },
    {
      "cell_type": "markdown",
      "metadata": {
        "id": "5m3lvylpvWgP"
      },
      "source": [
        "# Slide to check for the worst hit countries"
      ]
    },
    {
      "cell_type": "code",
      "metadata": {
        "id": "30dSITAWjZ-V"
      },
      "source": [
        "countries = globalwarming_clean['Country'].unique()"
      ],
      "execution_count": 13,
      "outputs": []
    },
    {
      "cell_type": "code",
      "metadata": {
        "id": "7B4STBeBjikC",
        "outputId": "f1cb61e1-a180-427f-a3da-2327d28d08c3",
        "colab": {
          "base_uri": "https://localhost:8080/",
          "height": 513
        }
      },
      "source": [
        "max_min_list = []\n",
        "\n",
        "# getting max and min temps\n",
        "for country in countries:\n",
        "    curr_temps = globalwarming_clean[globalwarming_clean['Country'] == country]['AverageTemperature']\n",
        "    max_min_list.append((curr_temps.max(), curr_temps.min()))\n",
        "    \n",
        "# nan cleaning\n",
        "res_max_min_list = []\n",
        "res_countries = []\n",
        "\n",
        "for i in range(len(max_min_list)):\n",
        "    if not np.isnan(max_min_list[i][0]):\n",
        "        res_max_min_list.append(max_min_list[i])\n",
        "        res_countries.append(countries[i])\n",
        "\n",
        "# calc differences        \n",
        "differences = []\n",
        "\n",
        "for tpl in res_max_min_list:\n",
        "    differences.append(tpl[0] - tpl[1])\n",
        "    \n",
        "# sorting\n",
        "differences, res_countries = (list(x) for x in zip(*sorted(zip(differences, res_countries), key=lambda pair: pair[0], reverse=True)))\n",
        "\n",
        "# ploting\n",
        "f, ax = plt.subplots(figsize=(8, 8))\n",
        "sns.barplot(x=differences[:15], y=res_countries[:15], palette=sns.color_palette(\"rocket\", 25), ax=ax)\n",
        "\n",
        "texts = ax.set(ylabel=\"\", xlabel=\"Temperature gradient\", title=\"Countries with highest delta temp\")"
      ],
      "execution_count": 14,
      "outputs": [
        {
          "output_type": "display_data",
          "data": {
            "image/png": "[encoded data removed]",
            "text/plain": [
              "<Figure size 576x576 with 1 Axes>"
            ]
          },
          "metadata": {
            "tags": [],
            "needs_background": "light"
          }
        }
      ]
    },
    {
      "cell_type": "code",
      "metadata": {
        "id": "DVTDF1tzfDRb",
        "outputId": "2cd2493b-f84d-43e5-da5e-a56f1062c50c",
        "colab": {
          "base_uri": "https://localhost:8080/",
          "height": 574,
          "referenced_widgets": [
            "d90011c4a2704c4784a345d7b86f7667",
            "449662f02bee44a1851f2f1eb05b6d3b",
            "00700caaa880414b9280dfab5734ffae",
            "61a58ea6ba824784bc743e6628e109de",
            "027b1e7eaad549218cdb442a8684f7c8",
            "0433005c46d74e0eb3409264fcf94f20",
            "8cea52aefe194e25b87431d7f8cb5d76",
            "9a8d337ce3204215b237262ea0dd25a9",
            "92617839697447fea959e4bf32240186",
            "cbd8a87cc6ed493eac2abb62ac3e94a6"
          ]
        }
      },
      "source": [
        "# # plotting the 10 worst hit countries\n",
        "\n",
        "def bubblechart(n):\n",
        "    fig = px.scatter(sorted_country.head(n), x=\"Country\", y=\"AverageTemperature\", size=\"AverageTemperatureUncertainty\", color=\"Country\",\n",
        "               hover_name=\"Country\", size_max=60)\n",
        "    fig.update_layout(\n",
        "    title=str(n) +\" Worst hit countries\",\n",
        "    xaxis_title=\"Countries\",\n",
        "    yaxis_title=\"Average Temperature\",\n",
        "    width = 700\n",
        "    )\n",
        "    fig.show();\n",
        "\n",
        "interact(bubblechart, n=100)\n",
        "\n",
        "ipywLayout = widgets.Layout(border='solid 2px green')\n",
        "ipywLayout.display='none'\n",
        "widgets.VBox([fig], layout=ipywLayout)"
      ],
      "execution_count": 15,
      "outputs": [
        {
          "output_type": "display_data",
          "data": {
            "application/vnd.jupyter.widget-view+json": {
              "model_id": "d90011c4a2704c4784a345d7b86f7667",
              "version_minor": 0,
              "version_major": 2
            },
            "text/plain": [
              "interactive(children=(IntSlider(value=100, description='n', max=300, min=-100), Output()), _dom_classes=('widg…"
            ]
          },
          "metadata": {
            "tags": []
          }
        },
        {
          "output_type": "display_data",
          "data": {
            "application/vnd.jupyter.widget-view+json": {
              "model_id": "9a8d337ce3204215b237262ea0dd25a9",
              "version_minor": 0,
              "version_major": 2
            },
            "text/plain": [
              "VBox(children=(FigureWidget({\n",
              "    'data': [], 'layout': {'template': '...'}\n",
              "}),), layout=Layout(border='solid …"
            ]
          },
          "metadata": {
            "tags": []
          }
        }
      ]
    }
  ]
}