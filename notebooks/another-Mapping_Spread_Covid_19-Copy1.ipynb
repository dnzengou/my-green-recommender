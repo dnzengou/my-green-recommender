{
 "cells": [
  {
   "cell_type": "markdown",
   "metadata": {
    "colab_type": "text",
    "id": "nAES85QSVFL1"
   },
   "source": [
    "# Mapping the Spread of Covid-19 with Python\n",
    "\n",
    "source: https://python-bloggers.com/2020/03/mapping-the-spread-of-covid-19-with-python/"
   ]
  },
  {
   "cell_type": "code",
   "execution_count": 2,
   "metadata": {},
   "outputs": [
    {
     "name": "stdout",
     "output_type": "stream",
     "text": [
      "Requirement already satisfied: panel in /home/desire/anaconda3/lib/python3.7/site-packages (0.9.5)\n",
      "Requirement already satisfied: param>=1.9.3 in /home/desire/anaconda3/lib/python3.7/site-packages (from panel) (1.9.3)\n",
      "Requirement already satisfied: pyviz-comms>=0.7.4 in /home/desire/anaconda3/lib/python3.7/site-packages (from panel) (0.7.4)\n",
      "Requirement already satisfied: bokeh>=2.0.0 in /home/desire/anaconda3/lib/python3.7/site-packages (from panel) (2.0.2)\n",
      "Requirement already satisfied: pyct>=0.4.4 in /home/desire/anaconda3/lib/python3.7/site-packages (from panel) (0.4.6)\n",
      "Requirement already satisfied: tqdm in /home/desire/anaconda3/lib/python3.7/site-packages (from panel) (4.29.1)\n",
      "Requirement already satisfied: markdown in /home/desire/anaconda3/lib/python3.7/site-packages (from panel) (3.2.1)\n",
      "Requirement already satisfied: Jinja2>=2.7 in /home/desire/anaconda3/lib/python3.7/site-packages (from bokeh>=2.0.0->panel) (2.11.2)\n",
      "Requirement already satisfied: tornado>=5 in /home/desire/anaconda3/lib/python3.7/site-packages (from bokeh>=2.0.0->panel) (5.1.1)\n",
      "Requirement already satisfied: python-dateutil>=2.1 in /home/desire/anaconda3/lib/python3.7/site-packages (from bokeh>=2.0.0->panel) (2.7.5)\n",
      "Requirement already satisfied: numpy>=1.11.3 in /home/desire/anaconda3/lib/python3.7/site-packages (from bokeh>=2.0.0->panel) (1.17.3)\n",
      "Requirement already satisfied: pillow>=4.0 in /home/desire/anaconda3/lib/python3.7/site-packages (from bokeh>=2.0.0->panel) (7.1.2)\n",
      "Requirement already satisfied: packaging>=16.8 in /home/desire/anaconda3/lib/python3.7/site-packages (from bokeh>=2.0.0->panel) (18.0)\n",
      "Requirement already satisfied: PyYAML>=3.10 in /home/desire/anaconda3/lib/python3.7/site-packages (from bokeh>=2.0.0->panel) (5.3.1)\n",
      "Requirement already satisfied: typing-extensions>=3.7.4 in /home/desire/anaconda3/lib/python3.7/site-packages (from bokeh>=2.0.0->panel) (3.7.4.2)\n",
      "Requirement already satisfied: setuptools>=36 in /home/desire/anaconda3/lib/python3.7/site-packages (from markdown->panel) (46.4.0.post20200518)\n",
      "Requirement already satisfied: MarkupSafe>=0.23 in /home/desire/anaconda3/lib/python3.7/site-packages (from Jinja2>=2.7->bokeh>=2.0.0->panel) (1.1.1)\n",
      "Requirement already satisfied: six>=1.5 in /home/desire/anaconda3/lib/python3.7/site-packages (from python-dateutil>=2.1->bokeh>=2.0.0->panel) (1.11.0)\n",
      "Requirement already satisfied: pyparsing>=2.0.2 in /home/desire/anaconda3/lib/python3.7/site-packages (from packaging>=16.8->bokeh>=2.0.0->panel) (2.4.7)\n"
     ]
    }
   ],
   "source": [
    "!pip install panel"
   ]
  },
  {
   "cell_type": "code",
   "execution_count": 3,
   "metadata": {},
   "outputs": [
    {
     "name": "stdout",
     "output_type": "stream",
     "text": [
      "Requirement already satisfied: panel in /home/desire/anaconda3/lib/python3.7/site-packages (0.9.5)\n",
      "Requirement already satisfied: pyviz-comms>=0.7.4 in /home/desire/anaconda3/lib/python3.7/site-packages (from panel) (0.7.4)\n",
      "Requirement already satisfied: markdown in /home/desire/anaconda3/lib/python3.7/site-packages (from panel) (3.2.1)\n",
      "Requirement already satisfied: bokeh>=2.0.0 in /home/desire/anaconda3/lib/python3.7/site-packages (from panel) (2.0.2)\n",
      "Requirement already satisfied: pyct>=0.4.4 in /home/desire/anaconda3/lib/python3.7/site-packages (from panel) (0.4.6)\n",
      "Requirement already satisfied: tqdm in /home/desire/anaconda3/lib/python3.7/site-packages (from panel) (4.29.1)\n",
      "Requirement already satisfied: param>=1.9.3 in /home/desire/anaconda3/lib/python3.7/site-packages (from panel) (1.9.3)\n",
      "Requirement already satisfied: setuptools>=36 in /home/desire/anaconda3/lib/python3.7/site-packages (from markdown->panel) (46.4.0.post20200518)\n",
      "Requirement already satisfied: PyYAML>=3.10 in /home/desire/anaconda3/lib/python3.7/site-packages (from bokeh>=2.0.0->panel) (5.3.1)\n",
      "Requirement already satisfied: Jinja2>=2.7 in /home/desire/anaconda3/lib/python3.7/site-packages (from bokeh>=2.0.0->panel) (2.11.2)\n",
      "Requirement already satisfied: typing-extensions>=3.7.4 in /home/desire/anaconda3/lib/python3.7/site-packages (from bokeh>=2.0.0->panel) (3.7.4.2)\n",
      "Requirement already satisfied: tornado>=5 in /home/desire/anaconda3/lib/python3.7/site-packages (from bokeh>=2.0.0->panel) (5.1.1)\n",
      "Requirement already satisfied: numpy>=1.11.3 in /home/desire/anaconda3/lib/python3.7/site-packages (from bokeh>=2.0.0->panel) (1.17.3)\n",
      "Requirement already satisfied: packaging>=16.8 in /home/desire/anaconda3/lib/python3.7/site-packages (from bokeh>=2.0.0->panel) (18.0)\n",
      "Requirement already satisfied: python-dateutil>=2.1 in /home/desire/anaconda3/lib/python3.7/site-packages (from bokeh>=2.0.0->panel) (2.7.5)\n",
      "Requirement already satisfied: pillow>=4.0 in /home/desire/anaconda3/lib/python3.7/site-packages (from bokeh>=2.0.0->panel) (7.1.2)\n",
      "Requirement already satisfied: MarkupSafe>=0.23 in /home/desire/anaconda3/lib/python3.7/site-packages (from Jinja2>=2.7->bokeh>=2.0.0->panel) (1.1.1)\n",
      "Requirement already satisfied: six in /home/desire/anaconda3/lib/python3.7/site-packages (from packaging>=16.8->bokeh>=2.0.0->panel) (1.11.0)\n",
      "Requirement already satisfied: pyparsing>=2.0.2 in /home/desire/anaconda3/lib/python3.7/site-packages (from packaging>=16.8->bokeh>=2.0.0->panel) (2.4.7)\n"
     ]
    }
   ],
   "source": [
    "!pip install panel"
   ]
  },
  {
   "cell_type": "code",
   "execution_count": 4,
   "metadata": {},
   "outputs": [
    {
     "name": "stdout",
     "output_type": "stream",
     "text": [
      "Requirement already satisfied: branca in /home/desire/anaconda3/lib/python3.7/site-packages (0.4.1)\r\n",
      "Requirement already satisfied: jinja2 in /home/desire/anaconda3/lib/python3.7/site-packages (from branca) (2.11.2)\r\n",
      "Requirement already satisfied: MarkupSafe>=0.23 in /home/desire/anaconda3/lib/python3.7/site-packages (from jinja2->branca) (1.1.1)\r\n"
     ]
    }
   ],
   "source": [
    "!pip install branca"
   ]
  },
  {
   "cell_type": "code",
   "execution_count": 5,
   "metadata": {},
   "outputs": [
    {
     "name": "stdout",
     "output_type": "stream",
     "text": [
      "Requirement already satisfied: folium in /home/desire/anaconda3/lib/python3.7/site-packages (0.11.0)\n",
      "Requirement already satisfied: requests in /home/desire/anaconda3/lib/python3.7/site-packages (from folium) (2.23.0)\n",
      "Requirement already satisfied: branca>=0.3.0 in /home/desire/anaconda3/lib/python3.7/site-packages (from folium) (0.4.1)\n",
      "Requirement already satisfied: numpy in /home/desire/anaconda3/lib/python3.7/site-packages (from folium) (1.17.3)\n",
      "Requirement already satisfied: jinja2>=2.9 in /home/desire/anaconda3/lib/python3.7/site-packages (from folium) (2.11.2)\n",
      "Requirement already satisfied: certifi>=2017.4.17 in /home/desire/anaconda3/lib/python3.7/site-packages (from requests->folium) (2020.6.20)\n",
      "Requirement already satisfied: urllib3!=1.25.0,!=1.25.1,<1.26,>=1.21.1 in /home/desire/anaconda3/lib/python3.7/site-packages (from requests->folium) (1.25.8)\n",
      "Requirement already satisfied: idna<3,>=2.5 in /home/desire/anaconda3/lib/python3.7/site-packages (from requests->folium) (2.9)\n",
      "Requirement already satisfied: chardet<4,>=3.0.2 in /home/desire/anaconda3/lib/python3.7/site-packages (from requests->folium) (3.0.4)\n",
      "Requirement already satisfied: MarkupSafe>=0.23 in /home/desire/anaconda3/lib/python3.7/site-packages (from jinja2>=2.9->folium) (1.1.1)\n"
     ]
    }
   ],
   "source": [
    "!pip install folium"
   ]
  },
  {
   "cell_type": "code",
   "execution_count": 6,
   "metadata": {},
   "outputs": [
    {
     "name": "stdout",
     "output_type": "stream",
     "text": [
      "Requirement already satisfied: pyshp in /home/desire/anaconda3/lib/python3.7/site-packages (2.1.0)\r\n"
     ]
    }
   ],
   "source": [
    "!pip install pyshp"
   ]
  },
  {
   "cell_type": "code",
   "execution_count": 7,
   "metadata": {},
   "outputs": [
    {
     "name": "stdout",
     "output_type": "stream",
     "text": [
      "Requirement already satisfied: fiona in /home/desire/anaconda3/lib/python3.7/site-packages (1.8.13.post1)\n",
      "Requirement already satisfied: click<8,>=4.0 in /home/desire/anaconda3/lib/python3.7/site-packages (from fiona) (7.1.2)\n",
      "Requirement already satisfied: click-plugins>=1.0 in /home/desire/anaconda3/lib/python3.7/site-packages (from fiona) (1.1.1)\n",
      "Requirement already satisfied: cligj>=0.5 in /home/desire/anaconda3/lib/python3.7/site-packages (from fiona) (0.7.0)\n",
      "Requirement already satisfied: six>=1.7 in /home/desire/anaconda3/lib/python3.7/site-packages (from fiona) (1.11.0)\n",
      "Requirement already satisfied: attrs>=17 in /home/desire/anaconda3/lib/python3.7/site-packages (from fiona) (19.3.0)\n",
      "Requirement already satisfied: munch in /home/desire/anaconda3/lib/python3.7/site-packages (from fiona) (2.5.0)\n"
     ]
    }
   ],
   "source": [
    "!pip install fiona"
   ]
  },
  {
   "cell_type": "code",
   "execution_count": 8,
   "metadata": {},
   "outputs": [
    {
     "name": "stdout",
     "output_type": "stream",
     "text": [
      "Requirement already satisfied: geopandas in /home/desire/anaconda3/lib/python3.7/site-packages (0.7.0)\n",
      "Requirement already satisfied: pandas>=0.23.0 in /home/desire/anaconda3/lib/python3.7/site-packages (from geopandas) (1.0.3)\n",
      "Requirement already satisfied: fiona in /home/desire/anaconda3/lib/python3.7/site-packages (from geopandas) (1.8.13.post1)\n",
      "Requirement already satisfied: pyproj>=2.2.0 in /home/desire/anaconda3/lib/python3.7/site-packages (from geopandas) (2.6.0)\n",
      "Requirement already satisfied: shapely in /home/desire/anaconda3/lib/python3.7/site-packages (from geopandas) (1.7.0)\n",
      "Requirement already satisfied: numpy>=1.13.3 in /home/desire/anaconda3/lib/python3.7/site-packages (from pandas>=0.23.0->geopandas) (1.17.3)\n",
      "Requirement already satisfied: python-dateutil>=2.6.1 in /home/desire/anaconda3/lib/python3.7/site-packages (from pandas>=0.23.0->geopandas) (2.7.5)\n",
      "Requirement already satisfied: pytz>=2017.2 in /home/desire/anaconda3/lib/python3.7/site-packages (from pandas>=0.23.0->geopandas) (2018.9)\n",
      "Requirement already satisfied: click<8,>=4.0 in /home/desire/anaconda3/lib/python3.7/site-packages (from fiona->geopandas) (7.1.2)\n",
      "Requirement already satisfied: cligj>=0.5 in /home/desire/anaconda3/lib/python3.7/site-packages (from fiona->geopandas) (0.7.0)\n",
      "Requirement already satisfied: click-plugins>=1.0 in /home/desire/anaconda3/lib/python3.7/site-packages (from fiona->geopandas) (1.1.1)\n",
      "Requirement already satisfied: six>=1.7 in /home/desire/anaconda3/lib/python3.7/site-packages (from fiona->geopandas) (1.11.0)\n",
      "Requirement already satisfied: attrs>=17 in /home/desire/anaconda3/lib/python3.7/site-packages (from fiona->geopandas) (19.3.0)\n",
      "Requirement already satisfied: munch in /home/desire/anaconda3/lib/python3.7/site-packages (from fiona->geopandas) (2.5.0)\n"
     ]
    }
   ],
   "source": [
    "!pip install geopandas"
   ]
  },
  {
   "cell_type": "code",
   "execution_count": 9,
   "metadata": {},
   "outputs": [
    {
     "name": "stdout",
     "output_type": "stream",
     "text": [
      "Requirement already satisfied: panel in /home/desire/anaconda3/lib/python3.7/site-packages (0.9.5)\n",
      "Requirement already satisfied: param>=1.9.3 in /home/desire/anaconda3/lib/python3.7/site-packages (from panel) (1.9.3)\n",
      "Requirement already satisfied: bokeh>=2.0.0 in /home/desire/anaconda3/lib/python3.7/site-packages (from panel) (2.0.2)\n",
      "Requirement already satisfied: markdown in /home/desire/anaconda3/lib/python3.7/site-packages (from panel) (3.2.1)\n",
      "Requirement already satisfied: tqdm in /home/desire/anaconda3/lib/python3.7/site-packages (from panel) (4.29.1)\n",
      "Requirement already satisfied: pyviz-comms>=0.7.4 in /home/desire/anaconda3/lib/python3.7/site-packages (from panel) (0.7.4)\n",
      "Requirement already satisfied: pyct>=0.4.4 in /home/desire/anaconda3/lib/python3.7/site-packages (from panel) (0.4.6)\n",
      "Requirement already satisfied: PyYAML>=3.10 in /home/desire/anaconda3/lib/python3.7/site-packages (from bokeh>=2.0.0->panel) (5.3.1)\n",
      "Requirement already satisfied: Jinja2>=2.7 in /home/desire/anaconda3/lib/python3.7/site-packages (from bokeh>=2.0.0->panel) (2.11.2)\n",
      "Requirement already satisfied: pillow>=4.0 in /home/desire/anaconda3/lib/python3.7/site-packages (from bokeh>=2.0.0->panel) (7.1.2)\n",
      "Requirement already satisfied: tornado>=5 in /home/desire/anaconda3/lib/python3.7/site-packages (from bokeh>=2.0.0->panel) (5.1.1)\n",
      "Requirement already satisfied: python-dateutil>=2.1 in /home/desire/anaconda3/lib/python3.7/site-packages (from bokeh>=2.0.0->panel) (2.7.5)\n",
      "Requirement already satisfied: typing-extensions>=3.7.4 in /home/desire/anaconda3/lib/python3.7/site-packages (from bokeh>=2.0.0->panel) (3.7.4.2)\n",
      "Requirement already satisfied: numpy>=1.11.3 in /home/desire/anaconda3/lib/python3.7/site-packages (from bokeh>=2.0.0->panel) (1.17.3)\n",
      "Requirement already satisfied: packaging>=16.8 in /home/desire/anaconda3/lib/python3.7/site-packages (from bokeh>=2.0.0->panel) (18.0)\n",
      "Requirement already satisfied: setuptools>=36 in /home/desire/anaconda3/lib/python3.7/site-packages (from markdown->panel) (46.4.0.post20200518)\n",
      "Requirement already satisfied: MarkupSafe>=0.23 in /home/desire/anaconda3/lib/python3.7/site-packages (from Jinja2>=2.7->bokeh>=2.0.0->panel) (1.1.1)\n",
      "Requirement already satisfied: six>=1.5 in /home/desire/anaconda3/lib/python3.7/site-packages (from python-dateutil>=2.1->bokeh>=2.0.0->panel) (1.11.0)\n",
      "Requirement already satisfied: pyparsing>=2.0.2 in /home/desire/anaconda3/lib/python3.7/site-packages (from packaging>=16.8->bokeh>=2.0.0->panel) (2.4.7)\n"
     ]
    }
   ],
   "source": [
    "!pip install panel"
   ]
  },
  {
   "cell_type": "code",
   "execution_count": 10,
   "metadata": {},
   "outputs": [
    {
     "name": "stdout",
     "output_type": "stream",
     "text": [
      "Requirement already satisfied: bokeh in /home/desire/anaconda3/lib/python3.7/site-packages (2.0.2)\r\n",
      "Requirement already satisfied: PyYAML>=3.10 in /home/desire/anaconda3/lib/python3.7/site-packages (from bokeh) (5.3.1)\r\n",
      "Requirement already satisfied: pillow>=4.0 in /home/desire/anaconda3/lib/python3.7/site-packages (from bokeh) (7.1.2)\r\n",
      "Requirement already satisfied: python-dateutil>=2.1 in /home/desire/anaconda3/lib/python3.7/site-packages (from bokeh) (2.7.5)\r\n",
      "Requirement already satisfied: typing-extensions>=3.7.4 in /home/desire/anaconda3/lib/python3.7/site-packages (from bokeh) (3.7.4.2)\r\n",
      "Requirement already satisfied: numpy>=1.11.3 in /home/desire/anaconda3/lib/python3.7/site-packages (from bokeh) (1.17.3)\r\n",
      "Requirement already satisfied: packaging>=16.8 in /home/desire/anaconda3/lib/python3.7/site-packages (from bokeh) (18.0)\r\n",
      "Requirement already satisfied: tornado>=5 in /home/desire/anaconda3/lib/python3.7/site-packages (from bokeh) (5.1.1)\r\n",
      "Requirement already satisfied: Jinja2>=2.7 in /home/desire/anaconda3/lib/python3.7/site-packages (from bokeh) (2.11.2)\r\n",
      "Requirement already satisfied: six>=1.5 in /home/desire/anaconda3/lib/python3.7/site-packages (from python-dateutil>=2.1->bokeh) (1.11.0)\r\n",
      "Requirement already satisfied: pyparsing>=2.0.2 in /home/desire/anaconda3/lib/python3.7/site-packages (from packaging>=16.8->bokeh) (2.4.7)\r\n",
      "Requirement already satisfied: MarkupSafe>=0.23 in /home/desire/anaconda3/lib/python3.7/site-packages (from Jinja2>=2.7->bokeh) (1.1.1)\r\n"
     ]
    }
   ],
   "source": [
    "!pip install bokeh"
   ]
  },
  {
   "cell_type": "code",
   "execution_count": 11,
   "metadata": {
    "colab": {
     "base_uri": "https://localhost:8080/",
     "height": 419
    },
    "colab_type": "code",
    "id": "BcRjgFyvVFky",
    "outputId": "2159ab08-e465-400f-8ff0-792b786b3e87"
   },
   "outputs": [
    {
     "ename": "ImportError",
     "evalue": "libcharset.so.1: cannot open shared object file: No such file or directory",
     "output_type": "error",
     "traceback": [
      "\u001b[0;31m---------------------------------------------------------------------------\u001b[0m",
      "\u001b[0;31mImportError\u001b[0m                               Traceback (most recent call last)",
      "\u001b[0;32m<ipython-input-11-9ccbf8a93524>\u001b[0m in \u001b[0;36m<module>\u001b[0;34m\u001b[0m\n\u001b[1;32m      3\u001b[0m \u001b[0;34m\u001b[0m\u001b[0m\n\u001b[1;32m      4\u001b[0m \u001b[0;32mimport\u001b[0m \u001b[0mshapefile\u001b[0m \u001b[0;32mas\u001b[0m \u001b[0mshp\u001b[0m\u001b[0;34m\u001b[0m\u001b[0;34m\u001b[0m\u001b[0m\n\u001b[0;32m----> 5\u001b[0;31m \u001b[0;32mimport\u001b[0m \u001b[0mfiona\u001b[0m\u001b[0;34m\u001b[0m\u001b[0;34m\u001b[0m\u001b[0m\n\u001b[0m\u001b[1;32m      6\u001b[0m \u001b[0;34m\u001b[0m\u001b[0m\n\u001b[1;32m      7\u001b[0m \u001b[0;31m#!pip install geopandas\u001b[0m\u001b[0;34m\u001b[0m\u001b[0;34m\u001b[0m\u001b[0;34m\u001b[0m\u001b[0m\n",
      "\u001b[0;32m~/anaconda3/lib/python3.7/site-packages/fiona/__init__.py\u001b[0m in \u001b[0;36m<module>\u001b[0;34m\u001b[0m\n\u001b[1;32m     81\u001b[0m     \u001b[0mos\u001b[0m\u001b[0;34m.\u001b[0m\u001b[0menviron\u001b[0m\u001b[0;34m[\u001b[0m\u001b[0;34m\"PATH\"\u001b[0m\u001b[0;34m]\u001b[0m \u001b[0;34m=\u001b[0m \u001b[0mos\u001b[0m\u001b[0;34m.\u001b[0m\u001b[0menviron\u001b[0m\u001b[0;34m[\u001b[0m\u001b[0;34m\"PATH\"\u001b[0m\u001b[0;34m]\u001b[0m \u001b[0;34m+\u001b[0m \u001b[0;34m\";\"\u001b[0m \u001b[0;34m+\u001b[0m \u001b[0mlibdir\u001b[0m\u001b[0;34m\u001b[0m\u001b[0;34m\u001b[0m\u001b[0m\n\u001b[1;32m     82\u001b[0m \u001b[0;34m\u001b[0m\u001b[0m\n\u001b[0;32m---> 83\u001b[0;31m \u001b[0;32mfrom\u001b[0m \u001b[0mfiona\u001b[0m\u001b[0;34m.\u001b[0m\u001b[0mcollection\u001b[0m \u001b[0;32mimport\u001b[0m \u001b[0mBytesCollection\u001b[0m\u001b[0;34m,\u001b[0m \u001b[0mCollection\u001b[0m\u001b[0;34m\u001b[0m\u001b[0;34m\u001b[0m\u001b[0m\n\u001b[0m\u001b[1;32m     84\u001b[0m \u001b[0;32mfrom\u001b[0m \u001b[0mfiona\u001b[0m\u001b[0;34m.\u001b[0m\u001b[0mdrvsupport\u001b[0m \u001b[0;32mimport\u001b[0m \u001b[0msupported_drivers\u001b[0m\u001b[0;34m\u001b[0m\u001b[0;34m\u001b[0m\u001b[0m\n\u001b[1;32m     85\u001b[0m \u001b[0;32mfrom\u001b[0m \u001b[0mfiona\u001b[0m\u001b[0;34m.\u001b[0m\u001b[0menv\u001b[0m \u001b[0;32mimport\u001b[0m \u001b[0mensure_env_with_credentials\u001b[0m\u001b[0;34m,\u001b[0m \u001b[0mEnv\u001b[0m\u001b[0;34m\u001b[0m\u001b[0;34m\u001b[0m\u001b[0m\n",
      "\u001b[0;32m~/anaconda3/lib/python3.7/site-packages/fiona/collection.py\u001b[0m in \u001b[0;36m<module>\u001b[0;34m\u001b[0m\n\u001b[1;32m      7\u001b[0m \u001b[0;34m\u001b[0m\u001b[0m\n\u001b[1;32m      8\u001b[0m \u001b[0;32mfrom\u001b[0m \u001b[0mfiona\u001b[0m \u001b[0;32mimport\u001b[0m \u001b[0mcompat\u001b[0m\u001b[0;34m,\u001b[0m \u001b[0mvfs\u001b[0m\u001b[0;34m\u001b[0m\u001b[0;34m\u001b[0m\u001b[0m\n\u001b[0;32m----> 9\u001b[0;31m \u001b[0;32mfrom\u001b[0m \u001b[0mfiona\u001b[0m\u001b[0;34m.\u001b[0m\u001b[0mogrext\u001b[0m \u001b[0;32mimport\u001b[0m \u001b[0mIterator\u001b[0m\u001b[0;34m,\u001b[0m \u001b[0mItemsIterator\u001b[0m\u001b[0;34m,\u001b[0m \u001b[0mKeysIterator\u001b[0m\u001b[0;34m\u001b[0m\u001b[0;34m\u001b[0m\u001b[0m\n\u001b[0m\u001b[1;32m     10\u001b[0m \u001b[0;32mfrom\u001b[0m \u001b[0mfiona\u001b[0m\u001b[0;34m.\u001b[0m\u001b[0mogrext\u001b[0m \u001b[0;32mimport\u001b[0m \u001b[0mSession\u001b[0m\u001b[0;34m,\u001b[0m \u001b[0mWritingSession\u001b[0m\u001b[0;34m\u001b[0m\u001b[0;34m\u001b[0m\u001b[0m\n\u001b[1;32m     11\u001b[0m \u001b[0;32mfrom\u001b[0m \u001b[0mfiona\u001b[0m\u001b[0;34m.\u001b[0m\u001b[0mogrext\u001b[0m \u001b[0;32mimport\u001b[0m \u001b[0mbuffer_to_virtual_file\u001b[0m\u001b[0;34m,\u001b[0m \u001b[0mremove_virtual_file\u001b[0m\u001b[0;34m,\u001b[0m \u001b[0mGEOMETRY_TYPES\u001b[0m\u001b[0;34m\u001b[0m\u001b[0;34m\u001b[0m\u001b[0m\n",
      "\u001b[0;31mImportError\u001b[0m: libcharset.so.1: cannot open shared object file: No such file or directory"
     ]
    }
   ],
   "source": [
    "import branca.colormap as cm\n",
    "import folium\n",
    "\n",
    "import shapefile as shp\n",
    "import fiona\n",
    "\n",
    "import geopandas as gpd\n",
    "import numpy as np\n",
    "import pandas as pd\n",
    "\n",
    "import json\n",
    "import matplotlib as mpl\n",
    "import pylab as plt\n",
    "\n",
    "from bokeh.io import output_file, show, output_notebook, export_png\n",
    "from bokeh.models import ColumnDataSource, GeoJSONDataSource, LinearColorMapper, ColorBar\n",
    "from bokeh.plotting import figure\n",
    "from bokeh.palettes import brewer\n",
    "\n",
    "import panel as pn\n",
    "import panel.widgets as pnw\n",
    "pn.extension()\n",
    "output_notebook()"
   ]
  },
  {
   "cell_type": "code",
   "execution_count": 3,
   "metadata": {},
   "outputs": [],
   "source": [
    "#bokeh.__version__"
   ]
  },
  {
   "cell_type": "code",
   "execution_count": 4,
   "metadata": {
    "colab": {},
    "colab_type": "code",
    "id": "5IMiWoT7VScX"
   },
   "outputs": [],
   "source": [
    "# source: https://www.kaggle.com/sudalairajkumar/novel-corona-virus-2019-dataset/data\n",
    "#corona_df = pd.read_csv(\"data/covid_19_data.csv\")\n",
    "corona_df = pd.read_csv(\"data/covid_19_data.csv\")"
   ]
  },
  {
   "cell_type": "code",
   "execution_count": 5,
   "metadata": {
    "colab": {
     "base_uri": "https://localhost:8080/",
     "height": 206
    },
    "colab_type": "code",
    "id": "AzopCbo8jve9",
    "outputId": "f8a2e2e3-c2eb-4e1e-b3cf-4871774ff561"
   },
   "outputs": [
    {
     "data": {
      "text/html": [
       "<div>\n",
       "<style scoped>\n",
       "    .dataframe tbody tr th:only-of-type {\n",
       "        vertical-align: middle;\n",
       "    }\n",
       "\n",
       "    .dataframe tbody tr th {\n",
       "        vertical-align: top;\n",
       "    }\n",
       "\n",
       "    .dataframe thead th {\n",
       "        text-align: right;\n",
       "    }\n",
       "</style>\n",
       "<table border=\"1\" class=\"dataframe\">\n",
       "  <thead>\n",
       "    <tr style=\"text-align: right;\">\n",
       "      <th></th>\n",
       "      <th>SNo</th>\n",
       "      <th>ObservationDate</th>\n",
       "      <th>Province/State</th>\n",
       "      <th>Country/Region</th>\n",
       "      <th>Last Update</th>\n",
       "      <th>Confirmed</th>\n",
       "      <th>Deaths</th>\n",
       "      <th>Recovered</th>\n",
       "    </tr>\n",
       "  </thead>\n",
       "  <tbody>\n",
       "    <tr>\n",
       "      <th>0</th>\n",
       "      <td>1</td>\n",
       "      <td>01/22/2020</td>\n",
       "      <td>Anhui</td>\n",
       "      <td>Mainland China</td>\n",
       "      <td>1/22/2020 17:00</td>\n",
       "      <td>1.0</td>\n",
       "      <td>0.0</td>\n",
       "      <td>0.0</td>\n",
       "    </tr>\n",
       "    <tr>\n",
       "      <th>1</th>\n",
       "      <td>2</td>\n",
       "      <td>01/22/2020</td>\n",
       "      <td>Beijing</td>\n",
       "      <td>Mainland China</td>\n",
       "      <td>1/22/2020 17:00</td>\n",
       "      <td>14.0</td>\n",
       "      <td>0.0</td>\n",
       "      <td>0.0</td>\n",
       "    </tr>\n",
       "    <tr>\n",
       "      <th>2</th>\n",
       "      <td>3</td>\n",
       "      <td>01/22/2020</td>\n",
       "      <td>Chongqing</td>\n",
       "      <td>Mainland China</td>\n",
       "      <td>1/22/2020 17:00</td>\n",
       "      <td>6.0</td>\n",
       "      <td>0.0</td>\n",
       "      <td>0.0</td>\n",
       "    </tr>\n",
       "    <tr>\n",
       "      <th>3</th>\n",
       "      <td>4</td>\n",
       "      <td>01/22/2020</td>\n",
       "      <td>Fujian</td>\n",
       "      <td>Mainland China</td>\n",
       "      <td>1/22/2020 17:00</td>\n",
       "      <td>1.0</td>\n",
       "      <td>0.0</td>\n",
       "      <td>0.0</td>\n",
       "    </tr>\n",
       "    <tr>\n",
       "      <th>4</th>\n",
       "      <td>5</td>\n",
       "      <td>01/22/2020</td>\n",
       "      <td>Gansu</td>\n",
       "      <td>Mainland China</td>\n",
       "      <td>1/22/2020 17:00</td>\n",
       "      <td>0.0</td>\n",
       "      <td>0.0</td>\n",
       "      <td>0.0</td>\n",
       "    </tr>\n",
       "  </tbody>\n",
       "</table>\n",
       "</div>"
      ],
      "text/plain": [
       "   SNo ObservationDate Province/State  Country/Region      Last Update  \\\n",
       "0    1      01/22/2020          Anhui  Mainland China  1/22/2020 17:00   \n",
       "1    2      01/22/2020        Beijing  Mainland China  1/22/2020 17:00   \n",
       "2    3      01/22/2020      Chongqing  Mainland China  1/22/2020 17:00   \n",
       "3    4      01/22/2020         Fujian  Mainland China  1/22/2020 17:00   \n",
       "4    5      01/22/2020          Gansu  Mainland China  1/22/2020 17:00   \n",
       "\n",
       "   Confirmed  Deaths  Recovered  \n",
       "0        1.0     0.0        0.0  \n",
       "1       14.0     0.0        0.0  \n",
       "2        6.0     0.0        0.0  \n",
       "3        1.0     0.0        0.0  \n",
       "4        0.0     0.0        0.0  "
      ]
     },
     "execution_count": 5,
     "metadata": {},
     "output_type": "execute_result"
    }
   ],
   "source": [
    "corona_df.head()"
   ]
  },
  {
   "cell_type": "markdown",
   "metadata": {
    "colab_type": "text",
    "id": "FIjM42O6mns2"
   },
   "source": [
    "In order to map our data, we need a shapefile. A shapefile is a geospatial vector data format. The shapefile format can spatially describe vector features such as points, lines, and polygons. We can read this file using GeoPandas.<br>\n",
    "source: https://hub.arcgis.com/datasets/a21fdb46d23e4ef896f31475217cbb08_1/data"
   ]
  },
  {
   "cell_type": "code",
   "execution_count": 13,
   "metadata": {
    "colab": {},
    "colab_type": "code",
    "id": "Zabt9x1fj3Fs"
   },
   "outputs": [],
   "source": [
    "countries = gpd.read_file('data/Countries_WGS84/Countries_WGS84.shp')\n",
    "#shape = fiona.open(\"1-11-99n.shp\")"
   ]
  },
  {
   "cell_type": "code",
   "execution_count": 14,
   "metadata": {},
   "outputs": [
    {
     "data": {
      "text/html": [
       "<div>\n",
       "<style scoped>\n",
       "    .dataframe tbody tr th:only-of-type {\n",
       "        vertical-align: middle;\n",
       "    }\n",
       "\n",
       "    .dataframe tbody tr th {\n",
       "        vertical-align: top;\n",
       "    }\n",
       "\n",
       "    .dataframe thead th {\n",
       "        text-align: right;\n",
       "    }\n",
       "</style>\n",
       "<table border=\"1\" class=\"dataframe\">\n",
       "  <thead>\n",
       "    <tr style=\"text-align: right;\">\n",
       "      <th></th>\n",
       "      <th>OBJECTID</th>\n",
       "      <th>CNTRY_NAME</th>\n",
       "      <th>geometry</th>\n",
       "    </tr>\n",
       "  </thead>\n",
       "  <tbody>\n",
       "    <tr>\n",
       "      <th>246</th>\n",
       "      <td>247</td>\n",
       "      <td>Western Samoa</td>\n",
       "      <td>(POLYGON ((-172.596496582031 -13.5091133117676...</td>\n",
       "    </tr>\n",
       "    <tr>\n",
       "      <th>247</th>\n",
       "      <td>248</td>\n",
       "      <td>Swaziland</td>\n",
       "      <td>POLYGON ((30.8994426727295 -26.7719497680664, ...</td>\n",
       "    </tr>\n",
       "    <tr>\n",
       "      <th>248</th>\n",
       "      <td>249</td>\n",
       "      <td>Yemen</td>\n",
       "      <td>(POLYGON ((48.6863899230957 14.0374994277955, ...</td>\n",
       "    </tr>\n",
       "    <tr>\n",
       "      <th>249</th>\n",
       "      <td>250</td>\n",
       "      <td>Zambia</td>\n",
       "      <td>POLYGON ((30.2130165100098 -14.9817161560058, ...</td>\n",
       "    </tr>\n",
       "    <tr>\n",
       "      <th>250</th>\n",
       "      <td>251</td>\n",
       "      <td>Zimbabwe</td>\n",
       "      <td>POLYGON ((32.4888763427734 -21.3444480895996, ...</td>\n",
       "    </tr>\n",
       "  </tbody>\n",
       "</table>\n",
       "</div>"
      ],
      "text/plain": [
       "     OBJECTID     CNTRY_NAME  \\\n",
       "246       247  Western Samoa   \n",
       "247       248      Swaziland   \n",
       "248       249          Yemen   \n",
       "249       250         Zambia   \n",
       "250       251       Zimbabwe   \n",
       "\n",
       "                                              geometry  \n",
       "246  (POLYGON ((-172.596496582031 -13.5091133117676...  \n",
       "247  POLYGON ((30.8994426727295 -26.7719497680664, ...  \n",
       "248  (POLYGON ((48.6863899230957 14.0374994277955, ...  \n",
       "249  POLYGON ((30.2130165100098 -14.9817161560058, ...  \n",
       "250  POLYGON ((32.4888763427734 -21.3444480895996, ...  "
      ]
     },
     "execution_count": 14,
     "metadata": {},
     "output_type": "execute_result"
    }
   ],
   "source": [
    "countries.tail()"
   ]
  },
  {
   "cell_type": "code",
   "execution_count": 15,
   "metadata": {
    "colab": {},
    "colab_type": "code",
    "id": "32Zr8jDQ5nRx"
   },
   "outputs": [],
   "source": [
    "corona_df = corona_df.replace({'Country/Region' : \n",
    "                      dict.fromkeys(['Taiwan', \n",
    "                                     'Mainland China', \n",
    "                                     'Hong Kong', \n",
    "                                     'Macau'], \n",
    "                                     'China')})"
   ]
  },
  {
   "cell_type": "code",
   "execution_count": 16,
   "metadata": {
    "colab": {},
    "colab_type": "code",
    "id": "-2k1x6Rr0zBz"
   },
   "outputs": [],
   "source": [
    "corona_df = corona_df.replace({'Country/Region' : 'US'}, \n",
    "                                'United States')"
   ]
  },
  {
   "cell_type": "code",
   "execution_count": 17,
   "metadata": {
    "colab": {},
    "colab_type": "code",
    "id": "hHp2-xEi0zCH",
    "outputId": "d136481e-da3c-45cc-b915-03191c7da8d4"
   },
   "outputs": [],
   "source": [
    "corona_df = corona_df.replace({'Country/Region' : 'UK'}, \n",
    "                                'United Kingdom')\n",
    "corona_df = corona_df.replace({'Country/Region' : 'North Ireland'}, \n",
    "                                'United Kingdom')\n",
    "corona_df = corona_df.replace({'Country/Region' : 'Republic of Ireland'}, \n",
    "                                'Ireland')\n",
    "corona_df = corona_df.replace({'Country/Region' : 'Vatican City'}, \n",
    "                                'Italy')\n",
    "countries = countries.replace({'CNTRY_NAME' : 'Byelarus'}, \n",
    "                               'Belarus')\n",
    "countries = countries.replace({'CNTRY_NAME' : 'Macedonia'}, \n",
    "                               'North Macedonia')"
   ]
  },
  {
   "cell_type": "markdown",
   "metadata": {
    "colab_type": "text",
    "id": "4ERGEQTS6AG9"
   },
   "source": [
    "Make sure that the country column has the same name in both files"
   ]
  },
  {
   "cell_type": "code",
   "execution_count": 18,
   "metadata": {
    "colab": {},
    "colab_type": "code",
    "id": "-YYi01Zw0zCY",
    "outputId": "68236cb7-04a8-418a-a68d-e516fe299988"
   },
   "outputs": [],
   "source": [
    "countries = countries.rename(columns={'CNTRY_NAME': 'Country/Region'})"
   ]
  },
  {
   "cell_type": "markdown",
   "metadata": {
    "colab_type": "text",
    "id": "8V7POkAS6Pjz"
   },
   "source": [
    "Some countries are included in the data despite having zero confirmed cases. So we remove these:"
   ]
  },
  {
   "cell_type": "code",
   "execution_count": 19,
   "metadata": {
    "colab": {},
    "colab_type": "code",
    "id": "OYrowJ8G6RAX"
   },
   "outputs": [],
   "source": [
    "corona_df = corona_df[corona_df.Confirmed != 0]"
   ]
  },
  {
   "cell_type": "markdown",
   "metadata": {
    "colab_type": "text",
    "id": "aZe_40uy80pf"
   },
   "source": [
    "We then sort our data by country and reset the index:"
   ]
  },
  {
   "cell_type": "code",
   "execution_count": 20,
   "metadata": {
    "scrolled": true
   },
   "outputs": [
    {
     "data": {
      "text/html": [
       "<div>\n",
       "<style scoped>\n",
       "    .dataframe tbody tr th:only-of-type {\n",
       "        vertical-align: middle;\n",
       "    }\n",
       "\n",
       "    .dataframe tbody tr th {\n",
       "        vertical-align: top;\n",
       "    }\n",
       "\n",
       "    .dataframe thead th {\n",
       "        text-align: right;\n",
       "    }\n",
       "</style>\n",
       "<table border=\"1\" class=\"dataframe\">\n",
       "  <thead>\n",
       "    <tr style=\"text-align: right;\">\n",
       "      <th></th>\n",
       "      <th>SNo</th>\n",
       "      <th>ObservationDate</th>\n",
       "      <th>Province/State</th>\n",
       "      <th>Country/Region</th>\n",
       "      <th>Last Update</th>\n",
       "      <th>Confirmed</th>\n",
       "      <th>Deaths</th>\n",
       "      <th>Recovered</th>\n",
       "    </tr>\n",
       "  </thead>\n",
       "  <tbody>\n",
       "    <tr>\n",
       "      <th>0</th>\n",
       "      <td>1</td>\n",
       "      <td>01/22/2020</td>\n",
       "      <td>Anhui</td>\n",
       "      <td>China</td>\n",
       "      <td>1/22/2020 17:00</td>\n",
       "      <td>1.0</td>\n",
       "      <td>0.0</td>\n",
       "      <td>0.0</td>\n",
       "    </tr>\n",
       "    <tr>\n",
       "      <th>1</th>\n",
       "      <td>2</td>\n",
       "      <td>01/22/2020</td>\n",
       "      <td>Beijing</td>\n",
       "      <td>China</td>\n",
       "      <td>1/22/2020 17:00</td>\n",
       "      <td>14.0</td>\n",
       "      <td>0.0</td>\n",
       "      <td>0.0</td>\n",
       "    </tr>\n",
       "    <tr>\n",
       "      <th>2</th>\n",
       "      <td>3</td>\n",
       "      <td>01/22/2020</td>\n",
       "      <td>Chongqing</td>\n",
       "      <td>China</td>\n",
       "      <td>1/22/2020 17:00</td>\n",
       "      <td>6.0</td>\n",
       "      <td>0.0</td>\n",
       "      <td>0.0</td>\n",
       "    </tr>\n",
       "    <tr>\n",
       "      <th>3</th>\n",
       "      <td>4</td>\n",
       "      <td>01/22/2020</td>\n",
       "      <td>Fujian</td>\n",
       "      <td>China</td>\n",
       "      <td>1/22/2020 17:00</td>\n",
       "      <td>1.0</td>\n",
       "      <td>0.0</td>\n",
       "      <td>0.0</td>\n",
       "    </tr>\n",
       "    <tr>\n",
       "      <th>5</th>\n",
       "      <td>6</td>\n",
       "      <td>01/22/2020</td>\n",
       "      <td>Guangdong</td>\n",
       "      <td>China</td>\n",
       "      <td>1/22/2020 17:00</td>\n",
       "      <td>26.0</td>\n",
       "      <td>0.0</td>\n",
       "      <td>0.0</td>\n",
       "    </tr>\n",
       "  </tbody>\n",
       "</table>\n",
       "</div>"
      ],
      "text/plain": [
       "   SNo ObservationDate Province/State Country/Region      Last Update  \\\n",
       "0    1      01/22/2020          Anhui          China  1/22/2020 17:00   \n",
       "1    2      01/22/2020        Beijing          China  1/22/2020 17:00   \n",
       "2    3      01/22/2020      Chongqing          China  1/22/2020 17:00   \n",
       "3    4      01/22/2020         Fujian          China  1/22/2020 17:00   \n",
       "5    6      01/22/2020      Guangdong          China  1/22/2020 17:00   \n",
       "\n",
       "   Confirmed  Deaths  Recovered  \n",
       "0        1.0     0.0        0.0  \n",
       "1       14.0     0.0        0.0  \n",
       "2        6.0     0.0        0.0  \n",
       "3        1.0     0.0        0.0  \n",
       "5       26.0     0.0        0.0  "
      ]
     },
     "execution_count": 20,
     "metadata": {},
     "output_type": "execute_result"
    }
   ],
   "source": [
    "corona_df.head()"
   ]
  },
  {
   "cell_type": "code",
   "execution_count": null,
   "metadata": {},
   "outputs": [],
   "source": [
    "corona_df.to_csv('corona_df.csv', index = False, header=True)"
   ]
  },
  {
   "cell_type": "code",
   "execution_count": 28,
   "metadata": {},
   "outputs": [],
   "source": [
    "#compression_opts = dict(method='zip', archive_name='corona_df_13042020.csv')  \n",
    "#corona_df.to_csv('corona_df_13042020.zip', index=False, compression=compression_opts)  "
   ]
  },
  {
   "cell_type": "code",
   "execution_count": 29,
   "metadata": {
    "colab": {},
    "colab_type": "code",
    "id": "ggoNtGjf82BE"
   },
   "outputs": [],
   "source": [
    "sorted_df = corona_df.sort_values(['Country/Region', \n",
    "                     'ObservationDate']).reset_index(drop=True)"
   ]
  },
  {
   "cell_type": "markdown",
   "metadata": {
    "colab_type": "text",
    "id": "PwuiqlU79Dql"
   },
   "source": [
    "Some countries, such as China, are split into different provinces/states. Since we just want the total number of cases per country, we get the sum for each country at each date:"
   ]
  },
  {
   "cell_type": "code",
   "execution_count": 30,
   "metadata": {
    "colab": {},
    "colab_type": "code",
    "id": "mmidbz8Q8-i-"
   },
   "outputs": [],
   "source": [
    "sum_df = sorted_df.groupby(['Country/Region', 'ObservationDate'], as_index=False).sum()"
   ]
  },
  {
   "cell_type": "markdown",
   "metadata": {
    "colab_type": "text",
    "id": "xre3iyTW9MBj"
   },
   "source": [
    "Now we can join the data and the shapefile together:"
   ]
  },
  {
   "cell_type": "code",
   "execution_count": 31,
   "metadata": {
    "colab": {},
    "colab_type": "code",
    "id": "Zwf0S_Rl9JAh"
   },
   "outputs": [],
   "source": [
    "joined_df = sum_df.merge(countries, on='Country/Region')"
   ]
  },
  {
   "cell_type": "markdown",
   "metadata": {
    "colab_type": "text",
    "id": "dT44X75I9TdC"
   },
   "source": [
    "We are going to plot the log of the number of confirmed cases for each country, as there are a couple of countries, such as China and Italy, with a lot more cases compared to other countries."
   ]
  },
  {
   "cell_type": "code",
   "execution_count": 32,
   "metadata": {
    "colab": {},
    "colab_type": "code",
    "id": "PGKDsDow0zCs",
    "scrolled": true
   },
   "outputs": [],
   "source": [
    "joined_df['log_Confirmed'] = np.log10(joined_df['Confirmed'])"
   ]
  },
  {
   "cell_type": "markdown",
   "metadata": {
    "colab_type": "text",
    "id": "IcP3dhXe9ecs"
   },
   "source": [
    "We also need to convert the ObservationDate to unix time in nanoseconds:"
   ]
  },
  {
   "cell_type": "code",
   "execution_count": 33,
   "metadata": {
    "colab": {},
    "colab_type": "code",
    "id": "tCQA8MyO0zC5"
   },
   "outputs": [],
   "source": [
    "joined_df['date_sec'] = pd.to_datetime(joined_df['ObservationDate']).astype(int) / 10**9\n",
    "joined_df['date_sec'] = joined_df['date_sec'].astype(int).astype(str)"
   ]
  },
  {
   "cell_type": "markdown",
   "metadata": {
    "colab_type": "text",
    "id": "kU2k8dVb_I68"
   },
   "source": [
    "We can now select the columns needed for the map and discard the others:"
   ]
  },
  {
   "cell_type": "code",
   "execution_count": 34,
   "metadata": {
    "colab": {},
    "colab_type": "code",
    "id": "E_eFwB1Q-46t"
   },
   "outputs": [],
   "source": [
    "joined_df = joined_df[['Country/Region', 'date_sec', 'log_Confirmed', 'geometry']]"
   ]
  },
  {
   "cell_type": "code",
   "execution_count": 39,
   "metadata": {},
   "outputs": [
    {
     "data": {
      "text/html": [
       "<div>\n",
       "<style scoped>\n",
       "    .dataframe tbody tr th:only-of-type {\n",
       "        vertical-align: middle;\n",
       "    }\n",
       "\n",
       "    .dataframe tbody tr th {\n",
       "        vertical-align: top;\n",
       "    }\n",
       "\n",
       "    .dataframe thead th {\n",
       "        text-align: right;\n",
       "    }\n",
       "</style>\n",
       "<table border=\"1\" class=\"dataframe\">\n",
       "  <thead>\n",
       "    <tr style=\"text-align: right;\">\n",
       "      <th></th>\n",
       "      <th>Country/Region</th>\n",
       "      <th>date_sec</th>\n",
       "      <th>log_Confirmed</th>\n",
       "      <th>geometry</th>\n",
       "    </tr>\n",
       "  </thead>\n",
       "  <tbody>\n",
       "    <tr>\n",
       "      <th>6934</th>\n",
       "      <td>Zimbabwe</td>\n",
       "      <td>1586304000</td>\n",
       "      <td>1.041393</td>\n",
       "      <td>POLYGON ((32.4888763427734 -21.3444480895996, ...</td>\n",
       "    </tr>\n",
       "    <tr>\n",
       "      <th>6935</th>\n",
       "      <td>Zimbabwe</td>\n",
       "      <td>1586390400</td>\n",
       "      <td>1.041393</td>\n",
       "      <td>POLYGON ((32.4888763427734 -21.3444480895996, ...</td>\n",
       "    </tr>\n",
       "    <tr>\n",
       "      <th>6936</th>\n",
       "      <td>Zimbabwe</td>\n",
       "      <td>1586476800</td>\n",
       "      <td>1.113943</td>\n",
       "      <td>POLYGON ((32.4888763427734 -21.3444480895996, ...</td>\n",
       "    </tr>\n",
       "    <tr>\n",
       "      <th>6937</th>\n",
       "      <td>Zimbabwe</td>\n",
       "      <td>1586563200</td>\n",
       "      <td>1.146128</td>\n",
       "      <td>POLYGON ((32.4888763427734 -21.3444480895996, ...</td>\n",
       "    </tr>\n",
       "    <tr>\n",
       "      <th>6938</th>\n",
       "      <td>Zimbabwe</td>\n",
       "      <td>1586649600</td>\n",
       "      <td>1.146128</td>\n",
       "      <td>POLYGON ((32.4888763427734 -21.3444480895996, ...</td>\n",
       "    </tr>\n",
       "  </tbody>\n",
       "</table>\n",
       "</div>"
      ],
      "text/plain": [
       "     Country/Region    date_sec  log_Confirmed  \\\n",
       "6934       Zimbabwe  1586304000       1.041393   \n",
       "6935       Zimbabwe  1586390400       1.041393   \n",
       "6936       Zimbabwe  1586476800       1.113943   \n",
       "6937       Zimbabwe  1586563200       1.146128   \n",
       "6938       Zimbabwe  1586649600       1.146128   \n",
       "\n",
       "                                               geometry  \n",
       "6934  POLYGON ((32.4888763427734 -21.3444480895996, ...  \n",
       "6935  POLYGON ((32.4888763427734 -21.3444480895996, ...  \n",
       "6936  POLYGON ((32.4888763427734 -21.3444480895996, ...  \n",
       "6937  POLYGON ((32.4888763427734 -21.3444480895996, ...  \n",
       "6938  POLYGON ((32.4888763427734 -21.3444480895996, ...  "
      ]
     },
     "execution_count": 39,
     "metadata": {},
     "output_type": "execute_result"
    }
   ],
   "source": [
    "joined_df.tail(5)"
   ]
  },
  {
   "cell_type": "code",
   "execution_count": 40,
   "metadata": {},
   "outputs": [],
   "source": [
    "joined_df.to_csv('joined_df.csv', index = False, header=True)"
   ]
  },
  {
   "cell_type": "markdown",
   "metadata": {
    "colab_type": "text",
    "id": "zo1qxZFS_Q5i"
   },
   "source": [
    "## Time to map"
   ]
  },
  {
   "cell_type": "markdown",
   "metadata": {
    "colab_type": "text",
    "id": "5ElvswCO_TIA"
   },
   "source": [
    "A choropleth is a type of map where regions are shaded or patterned proportionally to a data variable. We are going to make a choropleth with a timeslider, to show the spread of COVID-19 over time. The TimeSliderChoropleth class needs at least two arguments: a GeoJSON file containing the features (in this case, the countries) and a style dictionary. The style dictionary should have the following form:"
   ]
  },
  {
   "cell_type": "code",
   "execution_count": null,
   "metadata": {
    "colab": {},
    "colab_type": "code",
    "id": "2uzIeXFw-5aN"
   },
   "outputs": [],
   "source": [
    "styledict = {\n",
    "    : {\n",
    "        : {'color': , 'opacity': }\n",
    "        : {'color': , 'opacity': }\n",
    "        ...\n",
    "        },\n",
    "    ...,\n",
    "    : {\n",
    "        : {'color': , 'opacity': }\n",
    "        : {'color': , 'opacity': }\n",
    "        ...\n",
    "        }\n",
    "}"
   ]
  },
  {
   "cell_type": "markdown",
   "metadata": {
    "colab_type": "text",
    "id": "nQx_Bv-x_sI5"
   },
   "source": [
    "We have to first initialise the map. Folium allows the use of different map tiles. If we do not specify a map, it defaults to OpenStreetMap. Here, we will use 'cartodbpositron':"
   ]
  },
  {
   "cell_type": "code",
   "execution_count": 41,
   "metadata": {
    "colab": {},
    "colab_type": "code",
    "id": "-3Z9vjhZ0zDF"
   },
   "outputs": [],
   "source": [
    "mymap = folium.Map(tiles='cartodbpositron')\n",
    "mymap.save(outfile='infinite_scroll.html')"
   ]
  },
  {
   "cell_type": "code",
   "execution_count": 42,
   "metadata": {},
   "outputs": [
    {
     "data": {
      "text/html": [
       "<div style=\"width:100%;\"><div style=\"position:relative;width:100%;height:0;padding-bottom:60%;\"><iframe src=\"about:blank\" style=\"position:absolute;width:100%;height:100%;left:0;top:0;border:none !important;\" data-html=PCFET0NUWVBFIGh0bWw+CjxoZWFkPiAgICAKICAgIDxtZXRhIGh0dHAtZXF1aXY9ImNvbnRlbnQtdHlwZSIgY29udGVudD0idGV4dC9odG1sOyBjaGFyc2V0PVVURi04IiAvPgogICAgCiAgICAgICAgPHNjcmlwdD4KICAgICAgICAgICAgTF9OT19UT1VDSCA9IGZhbHNlOwogICAgICAgICAgICBMX0RJU0FCTEVfM0QgPSBmYWxzZTsKICAgICAgICA8L3NjcmlwdD4KICAgIAogICAgPHNjcmlwdCBzcmM9Imh0dHBzOi8vY2RuLmpzZGVsaXZyLm5ldC9ucG0vbGVhZmxldEAxLjUuMS9kaXN0L2xlYWZsZXQuanMiPjwvc2NyaXB0PgogICAgPHNjcmlwdCBzcmM9Imh0dHBzOi8vY29kZS5qcXVlcnkuY29tL2pxdWVyeS0xLjEyLjQubWluLmpzIj48L3NjcmlwdD4KICAgIDxzY3JpcHQgc3JjPSJodHRwczovL21heGNkbi5ib290c3RyYXBjZG4uY29tL2Jvb3RzdHJhcC8zLjIuMC9qcy9ib290c3RyYXAubWluLmpzIj48L3NjcmlwdD4KICAgIDxzY3JpcHQgc3JjPSJodHRwczovL2NkbmpzLmNsb3VkZmxhcmUuY29tL2FqYXgvbGlicy9MZWFmbGV0LmF3ZXNvbWUtbWFya2Vycy8yLjAuMi9sZWFmbGV0LmF3ZXNvbWUtbWFya2Vycy5qcyI+PC9zY3JpcHQ+CiAgICA8bGluayByZWw9InN0eWxlc2hlZXQiIGhyZWY9Imh0dHBzOi8vY2RuLmpzZGVsaXZyLm5ldC9ucG0vbGVhZmxldEAxLjUuMS9kaXN0L2xlYWZsZXQuY3NzIi8+CiAgICA8bGluayByZWw9InN0eWxlc2hlZXQiIGhyZWY9Imh0dHBzOi8vbWF4Y2RuLmJvb3RzdHJhcGNkbi5jb20vYm9vdHN0cmFwLzMuMi4wL2Nzcy9ib290c3RyYXAubWluLmNzcyIvPgogICAgPGxpbmsgcmVsPSJzdHlsZXNoZWV0IiBocmVmPSJodHRwczovL21heGNkbi5ib290c3RyYXBjZG4uY29tL2Jvb3RzdHJhcC8zLjIuMC9jc3MvYm9vdHN0cmFwLXRoZW1lLm1pbi5jc3MiLz4KICAgIDxsaW5rIHJlbD0ic3R5bGVzaGVldCIgaHJlZj0iaHR0cHM6Ly9tYXhjZG4uYm9vdHN0cmFwY2RuLmNvbS9mb250LWF3ZXNvbWUvNC42LjMvY3NzL2ZvbnQtYXdlc29tZS5taW4uY3NzIi8+CiAgICA8bGluayByZWw9InN0eWxlc2hlZXQiIGhyZWY9Imh0dHBzOi8vY2RuanMuY2xvdWRmbGFyZS5jb20vYWpheC9saWJzL0xlYWZsZXQuYXdlc29tZS1tYXJrZXJzLzIuMC4yL2xlYWZsZXQuYXdlc29tZS1tYXJrZXJzLmNzcyIvPgogICAgPGxpbmsgcmVsPSJzdHlsZXNoZWV0IiBocmVmPSJodHRwczovL3Jhd2Nkbi5naXRoYWNrLmNvbS9weXRob24tdmlzdWFsaXphdGlvbi9mb2xpdW0vbWFzdGVyL2ZvbGl1bS90ZW1wbGF0ZXMvbGVhZmxldC5hd2Vzb21lLnJvdGF0ZS5jc3MiLz4KICAgIDxzdHlsZT5odG1sLCBib2R5IHt3aWR0aDogMTAwJTtoZWlnaHQ6IDEwMCU7bWFyZ2luOiAwO3BhZGRpbmc6IDA7fTwvc3R5bGU+CiAgICA8c3R5bGU+I21hcCB7cG9zaXRpb246YWJzb2x1dGU7dG9wOjA7Ym90dG9tOjA7cmlnaHQ6MDtsZWZ0OjA7fTwvc3R5bGU+CiAgICAKICAgICAgICAgICAgPG1ldGEgbmFtZT0idmlld3BvcnQiIGNvbnRlbnQ9IndpZHRoPWRldmljZS13aWR0aCwKICAgICAgICAgICAgICAgIGluaXRpYWwtc2NhbGU9MS4wLCBtYXhpbXVtLXNjYWxlPTEuMCwgdXNlci1zY2FsYWJsZT1ubyIgLz4KICAgICAgICAgICAgPHN0eWxlPgogICAgICAgICAgICAgICAgI21hcF8wNjI0MjUxMDRlMzQ0NWRjOTA3YjYyMTQ2NzFmZTJlOSB7CiAgICAgICAgICAgICAgICAgICAgcG9zaXRpb246IHJlbGF0aXZlOwogICAgICAgICAgICAgICAgICAgIHdpZHRoOiAxMDAuMCU7CiAgICAgICAgICAgICAgICAgICAgaGVpZ2h0OiAxMDAuMCU7CiAgICAgICAgICAgICAgICAgICAgbGVmdDogMC4wJTsKICAgICAgICAgICAgICAgICAgICB0b3A6IDAuMCU7CiAgICAgICAgICAgICAgICB9CiAgICAgICAgICAgIDwvc3R5bGU+CiAgICAgICAgCjwvaGVhZD4KPGJvZHk+ICAgIAogICAgCiAgICAgICAgICAgIDxkaXYgY2xhc3M9ImZvbGl1bS1tYXAiIGlkPSJtYXBfMDYyNDI1MTA0ZTM0NDVkYzkwN2I2MjE0NjcxZmUyZTkiID48L2Rpdj4KICAgICAgICAKPC9ib2R5Pgo8c2NyaXB0PiAgICAKICAgIAogICAgICAgICAgICB2YXIgbWFwXzA2MjQyNTEwNGUzNDQ1ZGM5MDdiNjIxNDY3MWZlMmU5ID0gTC5tYXAoCiAgICAgICAgICAgICAgICAibWFwXzA2MjQyNTEwNGUzNDQ1ZGM5MDdiNjIxNDY3MWZlMmU5IiwKICAgICAgICAgICAgICAgIHsKICAgICAgICAgICAgICAgICAgICBjZW50ZXI6IFswLCAwXSwKICAgICAgICAgICAgICAgICAgICBjcnM6IEwuQ1JTLkVQU0czODU3LAogICAgICAgICAgICAgICAgICAgIHpvb206IDEsCiAgICAgICAgICAgICAgICAgICAgem9vbUNvbnRyb2w6IHRydWUsCiAgICAgICAgICAgICAgICAgICAgcHJlZmVyQ2FudmFzOiBmYWxzZSwKICAgICAgICAgICAgICAgIH0KICAgICAgICAgICAgKTsKCiAgICAgICAgICAgIAoKICAgICAgICAKICAgIAogICAgICAgICAgICB2YXIgdGlsZV9sYXllcl8zNmYyMzRkMTI5MzU0OWRmODZkZTU1ZjdlODE5MGYxMyA9IEwudGlsZUxheWVyKAogICAgICAgICAgICAgICAgImh0dHBzOi8vY2FydG9kYi1iYXNlbWFwcy17c30uZ2xvYmFsLnNzbC5mYXN0bHkubmV0L2xpZ2h0X2FsbC97en0ve3h9L3t5fS5wbmciLAogICAgICAgICAgICAgICAgeyJhdHRyaWJ1dGlvbiI6ICJcdTAwMjZjb3B5OyBcdTAwM2NhIGhyZWY9XCJodHRwOi8vd3d3Lm9wZW5zdHJlZXRtYXAub3JnL2NvcHlyaWdodFwiXHUwMDNlT3BlblN0cmVldE1hcFx1MDAzYy9hXHUwMDNlIGNvbnRyaWJ1dG9ycyBcdTAwMjZjb3B5OyBcdTAwM2NhIGhyZWY9XCJodHRwOi8vY2FydG9kYi5jb20vYXR0cmlidXRpb25zXCJcdTAwM2VDYXJ0b0RCXHUwMDNjL2FcdTAwM2UsIENhcnRvREIgXHUwMDNjYSBocmVmID1cImh0dHA6Ly9jYXJ0b2RiLmNvbS9hdHRyaWJ1dGlvbnNcIlx1MDAzZWF0dHJpYnV0aW9uc1x1MDAzYy9hXHUwMDNlIiwgImRldGVjdFJldGluYSI6IGZhbHNlLCAibWF4TmF0aXZlWm9vbSI6IDE4LCAibWF4Wm9vbSI6IDE4LCAibWluWm9vbSI6IDAsICJub1dyYXAiOiBmYWxzZSwgIm9wYWNpdHkiOiAxLCAic3ViZG9tYWlucyI6ICJhYmMiLCAidG1zIjogZmFsc2V9CiAgICAgICAgICAgICkuYWRkVG8obWFwXzA2MjQyNTEwNGUzNDQ1ZGM5MDdiNjIxNDY3MWZlMmU5KTsKICAgICAgICAKPC9zY3JpcHQ+ onload=\"this.contentDocument.open();this.contentDocument.write(atob(this.getAttribute('data-html')));this.contentDocument.close();\" allowfullscreen webkitallowfullscreen mozallowfullscreen></iframe></div></div>"
      ],
      "text/plain": [
       "<folium.folium.Map at 0x7f79ea7b8940>"
      ]
     },
     "execution_count": 42,
     "metadata": {},
     "output_type": "execute_result"
    }
   ],
   "source": [
    "mymap"
   ]
  },
  {
   "cell_type": "markdown",
   "metadata": {
    "colab_type": "text",
    "id": "ZZF9il9mAPOd"
   },
   "source": [
    "Now we have a map of the world. However, there are a couple of problems: the continents are continually repeated and the map can be panned endlessly from either side. In order to prevent this from happening, we set a minimum zoom and set max_bounds=True:"
   ]
  },
  {
   "cell_type": "code",
   "execution_count": 43,
   "metadata": {
    "colab": {},
    "colab_type": "code",
    "id": "KWX2qxImAQlF"
   },
   "outputs": [],
   "source": [
    "mymap_fix_boundary = folium.Map(min_zoom=2, max_bounds=True, tiles='cartodbpositron')\n",
    "mymap_fix_boundary.save(outfile='fix_boundary.html')"
   ]
  },
  {
   "cell_type": "markdown",
   "metadata": {
    "colab_type": "text",
    "id": "-jGEnIEgAcU_"
   },
   "source": [
    "ou might need to change the value of min_zoom depending on your platform. Now we define a color map in terms of the log of the number of confirmed cases:"
   ]
  },
  {
   "cell_type": "code",
   "execution_count": 44,
   "metadata": {
    "colab": {},
    "colab_type": "code",
    "id": "iJrek2uwAWKJ"
   },
   "outputs": [],
   "source": [
    "max_colour = max(joined_df['log_Confirmed'])\n",
    "min_colour = min(joined_df['log_Confirmed'])\n",
    "cmap = cm.linear.YlOrRd_09.scale(min_colour, max_colour)\n",
    "joined_df['colour'] = joined_df['log_Confirmed'].map(cmap)"
   ]
  },
  {
   "cell_type": "markdown",
   "metadata": {
    "colab_type": "text",
    "id": "r6cQ16I1AtGG"
   },
   "source": [
    "Next, we construct our style dictionary:"
   ]
  },
  {
   "cell_type": "code",
   "execution_count": 45,
   "metadata": {
    "colab": {},
    "colab_type": "code",
    "id": "YCZyAcHyAXLJ"
   },
   "outputs": [],
   "source": [
    "country_list = joined_df['Country/Region'].unique().tolist()\n",
    "country_idx = range(len(country_list))\n",
    "\n",
    "style_dict = {}\n",
    "for i in country_idx:\n",
    "    country = country_list[i]\n",
    "    result = joined_df[joined_df['Country/Region'] == country]\n",
    "    inner_dict = {}\n",
    "    for _, r in result.iterrows():\n",
    "        inner_dict[r['date_sec']] = {'color': r['colour'], 'opacity': 0.7}\n",
    "    style_dict[str(i)] = inner_dict"
   ]
  },
  {
   "cell_type": "markdown",
   "metadata": {
    "colab_type": "text",
    "id": "BziZHZFJA18Z"
   },
   "source": [
    "Then we need to make a dataframe containing the features for each country:\n",
    "\n"
   ]
  },
  {
   "cell_type": "code",
   "execution_count": 46,
   "metadata": {
    "colab": {},
    "colab_type": "code",
    "id": "JNlYsWYDAXmo"
   },
   "outputs": [],
   "source": [
    "countries_df = joined_df[['geometry']]\n",
    "countries_gdf = gpd.GeoDataFrame(countries_df)\n",
    "countries_gdf = countries_gdf.drop_duplicates().reset_index()"
   ]
  },
  {
   "cell_type": "markdown",
   "metadata": {
    "colab_type": "text",
    "id": "AXc-g8H7Bur1"
   },
   "source": [
    "Finally, we create our map and add a colourbar:"
   ]
  },
  {
   "cell_type": "code",
   "execution_count": 47,
   "metadata": {
    "colab": {},
    "colab_type": "code",
    "id": "75gt0Au6BZPF"
   },
   "outputs": [],
   "source": [
    "from folium.plugins import TimeSliderChoropleth\n",
    "\n",
    "slider_map = folium.Map(min_zoom=2, max_bounds=True,tiles='cartodbpositron')\n",
    "\n",
    "_ = TimeSliderChoropleth(\n",
    "    data=countries_gdf.to_json(),\n",
    "    styledict=style_dict,\n",
    "\n",
    ").add_to(slider_map)\n",
    "\n",
    "_ = cmap.add_to(slider_map)\n",
    "cmap.caption = \"Log of number of confirmed cases\"\n",
    "slider_map.save(outfile='TimeSliderChoropleth.html')"
   ]
  },
  {
   "cell_type": "code",
   "execution_count": 0,
   "metadata": {
    "colab": {},
    "colab_type": "code",
    "id": "z6DBMIalB8oh"
   },
   "outputs": [],
   "source": []
  }
 ],
 "metadata": {
  "accelerator": "GPU",
  "colab": {
   "collapsed_sections": [],
   "name": "Mapping_Spread_Covid-19.ipynb",
   "provenance": [],
   "toc_visible": true
  },
  "kernelspec": {
   "display_name": "Python 3",
   "language": "python",
   "name": "python3"
  },
  "language_info": {
   "codemirror_mode": {
    "name": "ipython",
    "version": 3
   },
   "file_extension": ".py",
   "mimetype": "text/x-python",
   "name": "python",
   "nbconvert_exporter": "python",
   "pygments_lexer": "ipython3",
   "version": "3.7.7"
  }
 },
 "nbformat": 4,
 "nbformat_minor": 1
}
