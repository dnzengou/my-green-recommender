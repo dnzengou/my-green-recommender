{
 "cells": [
  {
   "cell_type": "markdown",
   "metadata": {
    "id": "TGz8sW32z8uK"
   },
   "source": [
    "# Saving the power plants to a GeoJSON\n",
    "\n",
    "GeoJSONs are a great format to be able to open points very easily. They are basically just geo-located JSON files, which prevent us from having to retrieve the location info from each point with a self-made function each time we want to plot / access to points.\n",
    "\n",
    "In this short notebook, I'll show how this is done with a library called `geopandas` and how to then simply save this file.\n",
    "\n",
    "I also created a dataset [here](https://www.kaggle.com/maxlenormand/geolocated-power-plants-geojson) if you simply want to download the `.geojson` file directly."
   ]
  },
  {
   "cell_type": "code",
   "execution_count": 2,
   "metadata": {},
   "outputs": [
    {
     "name": "stdout",
     "output_type": "stream",
     "text": [
      "Requirement already satisfied: matplotlib in /home/desire/anaconda3/lib/python3.7/site-packages (2.2.5)\r\n",
      "Requirement already satisfied: pytz in /home/desire/anaconda3/lib/python3.7/site-packages (from matplotlib) (2018.9)\r\n",
      "Requirement already satisfied: pyparsing!=2.0.4,!=2.1.2,!=2.1.6,>=2.0.1 in /home/desire/anaconda3/lib/python3.7/site-packages (from matplotlib) (2.4.7)\r\n",
      "Requirement already satisfied: python-dateutil>=2.1 in /home/desire/anaconda3/lib/python3.7/site-packages (from matplotlib) (2.7.5)\r\n",
      "Requirement already satisfied: cycler>=0.10 in /home/desire/anaconda3/lib/python3.7/site-packages (from matplotlib) (0.10.0)\r\n",
      "Requirement already satisfied: kiwisolver>=1.0.1 in /home/desire/anaconda3/lib/python3.7/site-packages (from matplotlib) (1.2.0)\r\n",
      "Requirement already satisfied: six>=1.10 in /home/desire/anaconda3/lib/python3.7/site-packages (from matplotlib) (1.11.0)\r\n",
      "Requirement already satisfied: numpy>=1.7.1 in /home/desire/anaconda3/lib/python3.7/site-packages (from matplotlib) (1.17.3)\r\n"
     ]
    }
   ],
   "source": [
    "!pip install matplotlib"
   ]
  },
  {
   "cell_type": "code",
   "execution_count": 3,
   "metadata": {
    "_cell_guid": "b1076dfc-b9ad-4769-8c92-a6c4dae69d19",
    "_kg_hide-input": true,
    "_uuid": "8f2839f25d086af736a60e9eeb907d3b93b6e0e5",
    "id": "Rwi_cnETz8uO"
   },
   "outputs": [
    {
     "ename": "ModuleNotFoundError",
     "evalue": "No module named 'matplotlib.pyplot'",
     "output_type": "error",
     "traceback": [
      "\u001b[0;31m---------------------------------------------------------------------------\u001b[0m",
      "\u001b[0;31mModuleNotFoundError\u001b[0m                       Traceback (most recent call last)",
      "\u001b[0;32m<ipython-input-3-c93b4a3d83e1>\u001b[0m in \u001b[0;36m<module>\u001b[0;34m\u001b[0m\n\u001b[1;32m      5\u001b[0m \u001b[0;34m\u001b[0m\u001b[0m\n\u001b[1;32m      6\u001b[0m \u001b[0;31m# Plotting libraries\u001b[0m\u001b[0;34m\u001b[0m\u001b[0;34m\u001b[0m\u001b[0;34m\u001b[0m\u001b[0m\n\u001b[0;32m----> 7\u001b[0;31m \u001b[0;32mimport\u001b[0m \u001b[0mmatplotlib\u001b[0m\u001b[0;34m.\u001b[0m\u001b[0mpyplot\u001b[0m \u001b[0;32mas\u001b[0m \u001b[0mplt\u001b[0m\u001b[0;34m\u001b[0m\u001b[0;34m\u001b[0m\u001b[0m\n\u001b[0m",
      "\u001b[0;31mModuleNotFoundError\u001b[0m: No module named 'matplotlib.pyplot'"
     ]
    }
   ],
   "source": [
    "import numpy as np\n",
    "import os\n",
    "\n",
    "import pandas as pd\n",
    "\n",
    "# Plotting libraries\n",
    "import matplotlib.pyplot as plt"
   ]
  },
  {
   "cell_type": "code",
   "execution_count": null,
   "metadata": {
    "colab": {
     "base_uri": "https://localhost:8080/"
    },
    "id": "PeAHnfvY0W9l",
    "outputId": "df690699-8661-44d9-ff9d-51c2043f63a0"
   },
   "outputs": [],
   "source": [
    "!pip install geopandas"
   ]
  },
  {
   "cell_type": "code",
   "execution_count": null,
   "metadata": {
    "id": "jjIdb-fvz8ug"
   },
   "outputs": [],
   "source": [
    "# Geospatial libraries that we will be using for this\n",
    "import folium\n",
    "import geopandas as gpd\n",
    "from shapely.geometry import Point"
   ]
  },
  {
   "cell_type": "markdown",
   "metadata": {
    "id": "d5qW1pLaz8ux"
   },
   "source": [
    "First we need to find where the location information is in the original `.csv` file:"
   ]
  },
  {
   "cell_type": "code",
   "execution_count": null,
   "metadata": {
    "_cell_guid": "79c7e3d0-c299-4dcb-8224-4455121ee9b0",
    "_kg_hide-input": true,
    "_uuid": "d629ff2d2480ee46fbb7e2d37f6b5fab8052498a",
    "colab": {
     "base_uri": "https://localhost:8080/"
    },
    "id": "rs-wN0r_z8u0",
    "outputId": "f441b25a-b50b-4967-806c-14ddd8e5ceed"
   },
   "outputs": [],
   "source": [
    "power_plants = pd.read_csv('https://raw.githubusercontent.com/dnzengou/my-green-recommender/main/data/gppd_120_pr.csv')\n",
    "power_plants.columns"
   ]
  },
  {
   "cell_type": "markdown",
   "metadata": {
    "id": "H9DM225Az8u_"
   },
   "source": [
    "If we take a look at the `.geo` column, we cna see that the location is in a string in there:"
   ]
  },
  {
   "cell_type": "code",
   "execution_count": 7,
   "metadata": {
    "colab": {
     "base_uri": "https://localhost:8080/",
     "height": 36
    },
    "id": "wYqKSNtBz8vA",
    "outputId": "c8af4af7-72e7-4217-ce20-3548fe80891f"
   },
   "outputs": [
    {
     "data": {
      "application/vnd.google.colaboratory.intrinsic+json": {
       "type": "string"
      },
      "text/plain": [
       "'{\"type\":\"Point\",\"coordinates\":[-66.6662986370627,18.33589933648736]}'"
      ]
     },
     "execution_count": 7,
     "metadata": {
      "tags": []
     },
     "output_type": "execute_result"
    }
   ],
   "source": [
    "# Plotting the .geo info of the first power plant\n",
    "power_plants['.geo'][0]"
   ]
  },
  {
   "cell_type": "markdown",
   "metadata": {
    "id": "UCi3U2x0z8vL"
   },
   "source": [
    "We can easily extract the longitude & latitude of a given point and keep it as a float"
   ]
  },
  {
   "cell_type": "code",
   "execution_count": 8,
   "metadata": {
    "_kg_hide-input": true,
    "colab": {
     "base_uri": "https://localhost:8080/"
    },
    "id": "5l4N6_PVz8vM",
    "outputId": "304117eb-93f7-4dfc-fd3a-0c4dc59c8833"
   },
   "outputs": [
    {
     "name": "stdout",
     "output_type": "stream",
     "text": [
      "Longitude: -66.6662986370627, lattitude: 18.33589933648736\n"
     ]
    }
   ],
   "source": [
    "longitude = float(power_plants['.geo'][0].split(\"[\")[1][:-2].split(\",\")[0])\n",
    "latitude = float(power_plants['.geo'][0].split(\"[\")[1][:-2].split(\",\")[1])\n",
    "\n",
    "print(f'Longitude: {longitude}, lattitude: {latitude}')"
   ]
  },
  {
   "cell_type": "code",
   "execution_count": 9,
   "metadata": {
    "id": "AQis2mWFz8vX"
   },
   "outputs": [],
   "source": [
    "# We can create a new column containing this information\n",
    "power_plants['longitude'] = [float(power_plants['.geo'][point].split(\"[\")[1][:-2].split(\",\")[0]) for point in range(power_plants.shape[0])]\n",
    "power_plants['latitude'] = [float(power_plants['.geo'][point].split(\"[\")[1][:-2].split(\",\")[1]) for point in range(power_plants.shape[0])]"
   ]
  },
  {
   "cell_type": "markdown",
   "metadata": {
    "id": "F4mmNcFCz8vd"
   },
   "source": [
    "GeoDataFrames are like pandas DataFrames, except they have an additional column called the `geometry` which will contain Shapely information about the row object given (here it is a point, but it could also be polygons (for boundaries of a country for example) or multipolyons)."
   ]
  },
  {
   "cell_type": "code",
   "execution_count": 10,
   "metadata": {
    "id": "MXIaYbb4z8vg"
   },
   "outputs": [],
   "source": [
    "geometry_power_plants = [Point(x,y) for x,y in zip(power_plants.longitude, power_plants.latitude)]"
   ]
  },
  {
   "cell_type": "code",
   "execution_count": 11,
   "metadata": {
    "_kg_hide-input": true,
    "id": "QkIQY6qSz8vm"
   },
   "outputs": [],
   "source": [
    "del power_plants['.geo']"
   ]
  },
  {
   "cell_type": "markdown",
   "metadata": {
    "id": "QTccTPgNz8vu"
   },
   "source": [
    "As we are saving these points with some geo-location information, we need to give it a CRS: Coordinate Reference System. These are just the reference system used to calculate the given longitude and latitude given in the `geometry` column."
   ]
  },
  {
   "cell_type": "code",
   "execution_count": 16,
   "metadata": {
    "colab": {
     "base_uri": "https://localhost:8080/"
    },
    "id": "QWEOmNHf4J71",
    "outputId": "26cbed2e-b6a2-4b44-d1fd-8eeb3ceca434"
   },
   "outputs": [
    {
     "name": "stdout",
     "output_type": "stream",
     "text": [
      "/bin/bash: conda: command not found\n",
      "Requirement already satisfied: geopandas in /usr/local/lib/python3.6/dist-packages (0.8.1)\n",
      "Requirement already satisfied: descartes in /usr/local/lib/python3.6/dist-packages (1.1.0)\n",
      "Requirement already satisfied: shapely in /usr/local/lib/python3.6/dist-packages (1.7.1)\n",
      "Requirement already satisfied: fiona in /usr/local/lib/python3.6/dist-packages (1.8.17)\n",
      "Requirement already satisfied: pyproj in /usr/local/lib/python3.6/dist-packages (2.6.1.post1)\n",
      "Requirement already satisfied: six in /usr/local/lib/python3.6/dist-packages (1.15.0)\n",
      "Requirement already satisfied: pandas>=0.23.0 in /usr/local/lib/python3.6/dist-packages (from geopandas) (1.1.3)\n",
      "Requirement already satisfied: matplotlib in /usr/local/lib/python3.6/dist-packages (from descartes) (3.2.2)\n",
      "Requirement already satisfied: attrs>=17 in /usr/local/lib/python3.6/dist-packages (from fiona) (20.2.0)\n",
      "Requirement already satisfied: click<8,>=4.0 in /usr/local/lib/python3.6/dist-packages (from fiona) (7.1.2)\n",
      "Requirement already satisfied: click-plugins>=1.0 in /usr/local/lib/python3.6/dist-packages (from fiona) (1.1.1)\n",
      "Requirement already satisfied: cligj>=0.5 in /usr/local/lib/python3.6/dist-packages (from fiona) (0.7.0)\n",
      "Requirement already satisfied: munch in /usr/local/lib/python3.6/dist-packages (from fiona) (2.5.0)\n",
      "Requirement already satisfied: pytz>=2017.2 in /usr/local/lib/python3.6/dist-packages (from pandas>=0.23.0->geopandas) (2018.9)\n",
      "Requirement already satisfied: numpy>=1.15.4 in /usr/local/lib/python3.6/dist-packages (from pandas>=0.23.0->geopandas) (1.18.5)\n",
      "Requirement already satisfied: python-dateutil>=2.7.3 in /usr/local/lib/python3.6/dist-packages (from pandas>=0.23.0->geopandas) (2.8.1)\n",
      "Requirement already satisfied: cycler>=0.10 in /usr/local/lib/python3.6/dist-packages (from matplotlib->descartes) (0.10.0)\n",
      "Requirement already satisfied: pyparsing!=2.0.4,!=2.1.2,!=2.1.6,>=2.0.1 in /usr/local/lib/python3.6/dist-packages (from matplotlib->descartes) (2.4.7)\n",
      "Requirement already satisfied: kiwisolver>=1.0.1 in /usr/local/lib/python3.6/dist-packages (from matplotlib->descartes) (1.2.0)\n"
     ]
    }
   ],
   "source": [
    "!conda install -y -c conda-forge osmnx\n",
    "!pip install geopandas descartes shapely fiona pyproj six"
   ]
  },
  {
   "cell_type": "code",
   "execution_count": 18,
   "metadata": {
    "colab": {
     "base_uri": "https://localhost:8080/",
     "height": 400
    },
    "id": "ExXBxZv3z8vw",
    "outputId": "2931334c-2d7d-4906-a6c3-1dfeaa931e9e"
   },
   "outputs": [
    {
     "data": {
      "text/html": [
       "<div>\n",
       "<style scoped>\n",
       "    .dataframe tbody tr th:only-of-type {\n",
       "        vertical-align: middle;\n",
       "    }\n",
       "\n",
       "    .dataframe tbody tr th {\n",
       "        vertical-align: top;\n",
       "    }\n",
       "\n",
       "    .dataframe thead th {\n",
       "        text-align: right;\n",
       "    }\n",
       "</style>\n",
       "<table border=\"1\" class=\"dataframe\">\n",
       "  <thead>\n",
       "    <tr style=\"text-align: right;\">\n",
       "      <th></th>\n",
       "      <th>system:index</th>\n",
       "      <th>capacity_mw</th>\n",
       "      <th>commissioning_year</th>\n",
       "      <th>country</th>\n",
       "      <th>country_long</th>\n",
       "      <th>estimated_generation_gwh</th>\n",
       "      <th>generation_gwh_2013</th>\n",
       "      <th>generation_gwh_2014</th>\n",
       "      <th>generation_gwh_2015</th>\n",
       "      <th>generation_gwh_2016</th>\n",
       "      <th>generation_gwh_2017</th>\n",
       "      <th>geolocation_source</th>\n",
       "      <th>gppd_idnr</th>\n",
       "      <th>name</th>\n",
       "      <th>other_fuel1</th>\n",
       "      <th>other_fuel2</th>\n",
       "      <th>other_fuel3</th>\n",
       "      <th>owner</th>\n",
       "      <th>primary_fuel</th>\n",
       "      <th>source</th>\n",
       "      <th>url</th>\n",
       "      <th>wepp_id</th>\n",
       "      <th>year_of_capacity_data</th>\n",
       "      <th>longitude</th>\n",
       "      <th>latitude</th>\n",
       "      <th>geometry</th>\n",
       "    </tr>\n",
       "  </thead>\n",
       "  <tbody>\n",
       "    <tr>\n",
       "      <th>0</th>\n",
       "      <td>0000000000000000315a</td>\n",
       "      <td>15.0</td>\n",
       "      <td>1942.0</td>\n",
       "      <td>USA</td>\n",
       "      <td>United States of America</td>\n",
       "      <td>685.397712</td>\n",
       "      <td>0.0</td>\n",
       "      <td>0.0</td>\n",
       "      <td>0.0</td>\n",
       "      <td>0.0</td>\n",
       "      <td>0.0</td>\n",
       "      <td>WRI</td>\n",
       "      <td>WRI1026827</td>\n",
       "      <td>Dos Bocas</td>\n",
       "      <td>NaN</td>\n",
       "      <td>NaN</td>\n",
       "      <td>NaN</td>\n",
       "      <td>PREPA</td>\n",
       "      <td>Hydro</td>\n",
       "      <td>CEPR</td>\n",
       "      <td>http://energia.pr.gov/datos/plantas/</td>\n",
       "      <td>30936.0</td>\n",
       "      <td>0</td>\n",
       "      <td>-66.666299</td>\n",
       "      <td>18.335899</td>\n",
       "      <td>POINT (-66.66630 18.33590)</td>\n",
       "    </tr>\n",
       "    <tr>\n",
       "      <th>1</th>\n",
       "      <td>000000000000000026e5</td>\n",
       "      <td>1492.0</td>\n",
       "      <td>1975.0</td>\n",
       "      <td>USA</td>\n",
       "      <td>United States of America</td>\n",
       "      <td>8334.010812</td>\n",
       "      <td>0.0</td>\n",
       "      <td>0.0</td>\n",
       "      <td>0.0</td>\n",
       "      <td>0.0</td>\n",
       "      <td>0.0</td>\n",
       "      <td>WRI</td>\n",
       "      <td>WRI1026809</td>\n",
       "      <td>Aguirre</td>\n",
       "      <td>NaN</td>\n",
       "      <td>NaN</td>\n",
       "      <td>NaN</td>\n",
       "      <td>PREPA</td>\n",
       "      <td>Oil</td>\n",
       "      <td>PREPA</td>\n",
       "      <td>http://www.prepa.com/aguirre.asp</td>\n",
       "      <td>30928.0</td>\n",
       "      <td>0</td>\n",
       "      <td>-66.230796</td>\n",
       "      <td>17.951899</td>\n",
       "      <td>POINT (-66.23080 17.95190)</td>\n",
       "    </tr>\n",
       "    <tr>\n",
       "      <th>2</th>\n",
       "      <td>00000000000000002fda</td>\n",
       "      <td>990.0</td>\n",
       "      <td>1962.0</td>\n",
       "      <td>USA</td>\n",
       "      <td>United States of America</td>\n",
       "      <td>5529.940150</td>\n",
       "      <td>0.0</td>\n",
       "      <td>0.0</td>\n",
       "      <td>0.0</td>\n",
       "      <td>0.0</td>\n",
       "      <td>0.0</td>\n",
       "      <td>WRI</td>\n",
       "      <td>WRI1026811</td>\n",
       "      <td>Costa Sur</td>\n",
       "      <td>NaN</td>\n",
       "      <td>NaN</td>\n",
       "      <td>NaN</td>\n",
       "      <td>PREPA</td>\n",
       "      <td>Oil</td>\n",
       "      <td>PREPA</td>\n",
       "      <td>http://www.prepa.com/costasur.asp</td>\n",
       "      <td>30934.0</td>\n",
       "      <td>0</td>\n",
       "      <td>-66.753403</td>\n",
       "      <td>18.000298</td>\n",
       "      <td>POINT (-66.75340 18.00030)</td>\n",
       "    </tr>\n",
       "    <tr>\n",
       "      <th>3</th>\n",
       "      <td>00000000000000003f76</td>\n",
       "      <td>602.0</td>\n",
       "      <td>1960.0</td>\n",
       "      <td>USA</td>\n",
       "      <td>United States of America</td>\n",
       "      <td>3362.650475</td>\n",
       "      <td>0.0</td>\n",
       "      <td>0.0</td>\n",
       "      <td>0.0</td>\n",
       "      <td>0.0</td>\n",
       "      <td>0.0</td>\n",
       "      <td>WRI</td>\n",
       "      <td>WRI1026814</td>\n",
       "      <td>Palo Seco</td>\n",
       "      <td>NaN</td>\n",
       "      <td>NaN</td>\n",
       "      <td>NaN</td>\n",
       "      <td>PREPA</td>\n",
       "      <td>Oil</td>\n",
       "      <td>PREPA</td>\n",
       "      <td>http://www.prepa.com/PALOSECO.ASP</td>\n",
       "      <td>30942.0</td>\n",
       "      <td>0</td>\n",
       "      <td>-66.148597</td>\n",
       "      <td>18.455301</td>\n",
       "      <td>POINT (-66.14860 18.45530)</td>\n",
       "    </tr>\n",
       "    <tr>\n",
       "      <th>4</th>\n",
       "      <td>00000000000000002def</td>\n",
       "      <td>10.0</td>\n",
       "      <td>1915.0</td>\n",
       "      <td>USA</td>\n",
       "      <td>United States of America</td>\n",
       "      <td>456.931808</td>\n",
       "      <td>0.0</td>\n",
       "      <td>0.0</td>\n",
       "      <td>0.0</td>\n",
       "      <td>0.0</td>\n",
       "      <td>0.0</td>\n",
       "      <td>WRI</td>\n",
       "      <td>WRI1026821</td>\n",
       "      <td>Carite 1</td>\n",
       "      <td>NaN</td>\n",
       "      <td>NaN</td>\n",
       "      <td>NaN</td>\n",
       "      <td>PREPA</td>\n",
       "      <td>Hydro</td>\n",
       "      <td>PREPA</td>\n",
       "      <td>http://www.prepa.com/historia_eng.asp  https:/...</td>\n",
       "      <td>65289.0</td>\n",
       "      <td>0</td>\n",
       "      <td>-66.106004</td>\n",
       "      <td>18.044702</td>\n",
       "      <td>POINT (-66.10600 18.04470)</td>\n",
       "    </tr>\n",
       "  </tbody>\n",
       "</table>\n",
       "</div>"
      ],
      "text/plain": [
       "           system:index  capacity_mw  ...   latitude                    geometry\n",
       "0  0000000000000000315a         15.0  ...  18.335899  POINT (-66.66630 18.33590)\n",
       "1  000000000000000026e5       1492.0  ...  17.951899  POINT (-66.23080 17.95190)\n",
       "2  00000000000000002fda        990.0  ...  18.000298  POINT (-66.75340 18.00030)\n",
       "3  00000000000000003f76        602.0  ...  18.455301  POINT (-66.14860 18.45530)\n",
       "4  00000000000000002def         10.0  ...  18.044702  POINT (-66.10600 18.04470)\n",
       "\n",
       "[5 rows x 26 columns]"
      ]
     },
     "execution_count": 18,
     "metadata": {
      "tags": []
     },
     "output_type": "execute_result"
    }
   ],
   "source": [
    "#gdf_power_plants = gpd.GeoDataFrame(power_plants, crs = {'init': 'epsg: 4326'}, geometry = geometry_power_plants)\n",
    "gdf_power_plants = gpd.GeoDataFrame(power_plants, crs='EPSG:4326', geometry = geometry_power_plants)\n",
    "gdf_power_plants.head()"
   ]
  },
  {
   "cell_type": "markdown",
   "metadata": {
    "id": "42dFRc6Lz8v3"
   },
   "source": [
    "We can now simply plot this GeoDataFrame"
   ]
  },
  {
   "cell_type": "code",
   "execution_count": 19,
   "metadata": {
    "_kg_hide-input": true,
    "colab": {
     "base_uri": "https://localhost:8080/",
     "height": 173
    },
    "id": "sDtV-wJ9z8v6",
    "outputId": "e0a939f7-ad9f-4cd1-bce5-fd2506e2b4e6"
   },
   "outputs": [
    {
     "data": {
      "text/plain": [
       "<matplotlib.axes._subplots.AxesSubplot at 0x7f3ae49d0160>"
      ]
     },
     "execution_count": 19,
     "metadata": {
      "tags": []
     },
     "output_type": "execute_result"
    },
    {
     "data": {
      "image/png": "[encoded data removed]",
      "text/plain": [
       "<Figure size 432x288 with 1 Axes>"
      ]
     },
     "metadata": {
      "needs_background": "light",
      "tags": []
     },
     "output_type": "display_data"
    }
   ],
   "source": [
    "gdf_power_plants.plot()"
   ]
  },
  {
   "cell_type": "markdown",
   "metadata": {
    "id": "sUoUtDYAz8wH"
   },
   "source": [
    "Just to be sure, we can plot these on a Folium Map, to check that we have the correct CRS and we didn't mess up anything. (You can also check by un-hiding the code, that plotting points on a map with a GeoDataFrame is much easier than if we had to create an additional function to retrieve the longitude and latitude. Technically we could just keep that in a pandas DataFrame, but for the sake of the deomstration, GeoDataFrames are shown here)."
   ]
  },
  {
   "cell_type": "code",
   "execution_count": 20,
   "metadata": {
    "_kg_hide-input": true,
    "colab": {
     "base_uri": "https://localhost:8080/",
     "height": 762
    },
    "id": "jVujBlUPz8wK",
    "outputId": "01c258ac-c7b3-4793-8737-48a2d64de590"
   },
   "outputs": [
    {
     "data": {
      "text/html": [
       "<div style=\"width:100%;\"><div style=\"position:relative;width:100%;height:0;padding-bottom:60%;\"><span style=\"color:#565656\">Make this Notebook Trusted to load map: File -> Trust Notebook</span><iframe src=\"about:blank\" style=\"position:absolute;width:100%;height:100%;left:0;top:0;border:none !important;\" data-html=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 onload=\"this.contentDocument.open();this.contentDocument.write(atob(this.getAttribute('data-html')));this.contentDocument.close();\" allowfullscreen webkitallowfullscreen mozallowfullscreen></iframe></div></div>"
      ],
      "text/plain": [
       "<folium.folium.Map at 0x7f3ae48bbe10>"
      ]
     },
     "execution_count": 20,
     "metadata": {
      "tags": []
     },
     "output_type": "execute_result"
    }
   ],
   "source": [
    "# Plot on the map\n",
    "lat=18.200178; lon=-66.664513\n",
    "plot = folium.Map(location = (lat, lon), zoom_start=9)\n",
    "\n",
    "for plant_lat, plant_long in zip(gdf_power_plants.latitude, gdf_power_plants.longitude):\n",
    "    folium.Marker(location = (plant_lat, plant_long),\n",
    "                    icon = folium.Icon(color='blue')).add_to(plot)\n",
    "    \n",
    "plot"
   ]
  },
  {
   "cell_type": "markdown",
   "metadata": {
    "id": "8F3s6Bk8z8wY"
   },
   "source": [
    "And finally, we want to save this GeoDataFrame to be able to use it later"
   ]
  },
  {
   "cell_type": "code",
   "execution_count": 21,
   "metadata": {
    "id": "1_7R1heCz8wb"
   },
   "outputs": [],
   "source": [
    "# Saving the geodataframe for easy use later\n",
    "gdf_power_plants.to_file('Geolocated_gppd_120_pr.geojson', driver='GeoJSON')"
   ]
  },
  {
   "cell_type": "markdown",
   "metadata": {
    "id": "YRFEzRLPz8wj"
   },
   "source": [
    "I should add that there are more benefits to making handling GeoJSONs instead of CSVs. For example, we can very easily drop them in QGIS and compare them to any rasters we might have:\n",
    "\n",
    "![Imgur](https://i.imgur.com/AX4e89p.png)"
   ]
  },
  {
   "cell_type": "code",
   "execution_count": null,
   "metadata": {
    "id": "fEtekgSAz8wk"
   },
   "outputs": [],
   "source": []
  }
 ],
 "metadata": {
  "colab": {
   "name": "saving-the-power-plants-csv-to-geojson_update30102020.ipynb",
   "provenance": []
  },
  "kernelspec": {
   "display_name": "Python 3",
   "language": "python",
   "name": "python3"
  }
 },
 "nbformat": 4,
 "nbformat_minor": 1
}
