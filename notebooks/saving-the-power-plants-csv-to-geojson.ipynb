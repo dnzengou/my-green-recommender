{
 "cells": [
  {
   "cell_type": "markdown",
   "metadata": {},
   "source": [
    "# Saving the power plants to a GeoJSON\n",
    "\n",
    "GeoJSONs are a great format to be able to open points very easily. They are basically just geo-located JSON files, which prevent us from having to retrieve the location info from each point with a self-made function each time we want to plot / access to points.\n",
    "\n",
    "In this short notebook, I'll show how this is done with a library called `geopandas` and how to then simply save this file.\n",
    "\n",
    "I also created a dataset [here](https://www.kaggle.com/maxlenormand/geolocated-power-plants-geojson) if you simply want to download the `.geojson` file directly."
   ]
  },
  {
   "cell_type": "code",
   "execution_count": 1,
   "metadata": {
    "_cell_guid": "b1076dfc-b9ad-4769-8c92-a6c4dae69d19",
    "_kg_hide-input": true,
    "_uuid": "8f2839f25d086af736a60e9eeb907d3b93b6e0e5"
   },
   "outputs": [],
   "source": [
    "import numpy as np\n",
    "import os\n",
    "\n",
    "import pandas as pd\n",
    "\n",
    "# Plotting libraries\n",
    "import matplotlib.pyplot as plt"
   ]
  },
  {
   "cell_type": "code",
   "execution_count": 2,
   "metadata": {},
   "outputs": [],
   "source": [
    "# Geospatial libraries that we will be using for this\n",
    "import folium\n",
    "import geopandas as gpd\n",
    "from shapely.geometry import Point"
   ]
  },
  {
   "cell_type": "markdown",
   "metadata": {},
   "source": [
    "First we need to find where the location information is in the original `.csv` file:"
   ]
  },
  {
   "cell_type": "code",
   "execution_count": 3,
   "metadata": {
    "_cell_guid": "79c7e3d0-c299-4dcb-8224-4455121ee9b0",
    "_kg_hide-input": true,
    "_uuid": "d629ff2d2480ee46fbb7e2d37f6b5fab8052498a"
   },
   "outputs": [
    {
     "data": {
      "text/plain": [
       "Index(['system:index', 'capacity_mw', 'commissioning_year', 'country',\n",
       "       'country_long', 'estimated_generation_gwh', 'generation_gwh_2013',\n",
       "       'generation_gwh_2014', 'generation_gwh_2015', 'generation_gwh_2016',\n",
       "       'generation_gwh_2017', 'geolocation_source', 'gppd_idnr', 'name',\n",
       "       'other_fuel1', 'other_fuel2', 'other_fuel3', 'owner', 'primary_fuel',\n",
       "       'source', 'url', 'wepp_id', 'year_of_capacity_data', '.geo'],\n",
       "      dtype='object')"
      ]
     },
     "execution_count": 3,
     "metadata": {},
     "output_type": "execute_result"
    }
   ],
   "source": [
    "power_plants = pd.read_csv('/kaggle/input/ds4g-environmental-insights-explorer/eie_data/gppd/gppd_120_pr.csv')\n",
    "power_plants.columns"
   ]
  },
  {
   "cell_type": "markdown",
   "metadata": {},
   "source": [
    "If we take a look at the `.geo` column, we cna see that the location is in a string in there:"
   ]
  },
  {
   "cell_type": "code",
   "execution_count": 4,
   "metadata": {},
   "outputs": [
    {
     "data": {
      "text/plain": [
       "'{\"type\":\"Point\",\"coordinates\":[-66.6662986370627,18.33589933648736]}'"
      ]
     },
     "execution_count": 4,
     "metadata": {},
     "output_type": "execute_result"
    }
   ],
   "source": [
    "# Plotting the .geo info of the first power plant\n",
    "power_plants['.geo'][0]"
   ]
  },
  {
   "cell_type": "markdown",
   "metadata": {},
   "source": [
    "We can easily extract the longitude & latitude of a given point and keep it as a float"
   ]
  },
  {
   "cell_type": "code",
   "execution_count": 5,
   "metadata": {
    "_kg_hide-input": true
   },
   "outputs": [
    {
     "name": "stdout",
     "output_type": "stream",
     "text": [
      "Longitude: -66.6662986370627, lattitude: 18.33589933648736\n"
     ]
    }
   ],
   "source": [
    "longitude = float(power_plants['.geo'][0].split(\"[\")[1][:-2].split(\",\")[0])\n",
    "latitude = float(power_plants['.geo'][0].split(\"[\")[1][:-2].split(\",\")[1])\n",
    "\n",
    "print(f'Longitude: {longitude}, lattitude: {latitude}')"
   ]
  },
  {
   "cell_type": "code",
   "execution_count": 6,
   "metadata": {},
   "outputs": [],
   "source": [
    "# We can create a new column containing this information\n",
    "power_plants['longitude'] = [float(power_plants['.geo'][point].split(\"[\")[1][:-2].split(\",\")[0]) for point in range(power_plants.shape[0])]\n",
    "power_plants['latitude'] = [float(power_plants['.geo'][point].split(\"[\")[1][:-2].split(\",\")[1]) for point in range(power_plants.shape[0])]"
   ]
  },
  {
   "cell_type": "markdown",
   "metadata": {},
   "source": [
    "GeoDataFrames are like pandas DataFrames, except they have an additional column called the `geometry` which will contain Shapely information about the row object given (here it is a point, but it could also be polygons (for boundaries of a country for example) or multipolyons)."
   ]
  },
  {
   "cell_type": "code",
   "execution_count": 7,
   "metadata": {},
   "outputs": [],
   "source": [
    "geometry_power_plants = [Point(x,y) for x,y in zip(power_plants.longitude, power_plants.latitude)]"
   ]
  },
  {
   "cell_type": "code",
   "execution_count": 8,
   "metadata": {
    "_kg_hide-input": true
   },
   "outputs": [],
   "source": [
    "del power_plants['.geo']"
   ]
  },
  {
   "cell_type": "markdown",
   "metadata": {},
   "source": [
    "As we are saving these points with some geo-location information, we need to give it a CRS: Coordinate Reference System. These are just the reference system used to calculate the given longitude and latitude given in the `geometry` column."
   ]
  },
  {
   "cell_type": "code",
   "execution_count": 9,
   "metadata": {},
   "outputs": [
    {
     "data": {
      "text/html": [
       "<div>\n",
       "<style scoped>\n",
       "    .dataframe tbody tr th:only-of-type {\n",
       "        vertical-align: middle;\n",
       "    }\n",
       "\n",
       "    .dataframe tbody tr th {\n",
       "        vertical-align: top;\n",
       "    }\n",
       "\n",
       "    .dataframe thead th {\n",
       "        text-align: right;\n",
       "    }\n",
       "</style>\n",
       "<table border=\"1\" class=\"dataframe\">\n",
       "  <thead>\n",
       "    <tr style=\"text-align: right;\">\n",
       "      <th></th>\n",
       "      <th>system:index</th>\n",
       "      <th>capacity_mw</th>\n",
       "      <th>commissioning_year</th>\n",
       "      <th>country</th>\n",
       "      <th>country_long</th>\n",
       "      <th>estimated_generation_gwh</th>\n",
       "      <th>generation_gwh_2013</th>\n",
       "      <th>generation_gwh_2014</th>\n",
       "      <th>generation_gwh_2015</th>\n",
       "      <th>generation_gwh_2016</th>\n",
       "      <th>...</th>\n",
       "      <th>other_fuel3</th>\n",
       "      <th>owner</th>\n",
       "      <th>primary_fuel</th>\n",
       "      <th>source</th>\n",
       "      <th>url</th>\n",
       "      <th>wepp_id</th>\n",
       "      <th>year_of_capacity_data</th>\n",
       "      <th>longitude</th>\n",
       "      <th>latitude</th>\n",
       "      <th>geometry</th>\n",
       "    </tr>\n",
       "  </thead>\n",
       "  <tbody>\n",
       "    <tr>\n",
       "      <th>0</th>\n",
       "      <td>0000000000000000315a</td>\n",
       "      <td>15.0</td>\n",
       "      <td>1942.0</td>\n",
       "      <td>USA</td>\n",
       "      <td>United States of America</td>\n",
       "      <td>685.397712</td>\n",
       "      <td>0.0</td>\n",
       "      <td>0.0</td>\n",
       "      <td>0.0</td>\n",
       "      <td>0.0</td>\n",
       "      <td>...</td>\n",
       "      <td>NaN</td>\n",
       "      <td>PREPA</td>\n",
       "      <td>Hydro</td>\n",
       "      <td>CEPR</td>\n",
       "      <td>http://energia.pr.gov/datos/plantas/</td>\n",
       "      <td>30936.0</td>\n",
       "      <td>0</td>\n",
       "      <td>-66.666299</td>\n",
       "      <td>18.335899</td>\n",
       "      <td>POINT (-66.66630 18.33590)</td>\n",
       "    </tr>\n",
       "    <tr>\n",
       "      <th>1</th>\n",
       "      <td>000000000000000026e5</td>\n",
       "      <td>1492.0</td>\n",
       "      <td>1975.0</td>\n",
       "      <td>USA</td>\n",
       "      <td>United States of America</td>\n",
       "      <td>8334.010812</td>\n",
       "      <td>0.0</td>\n",
       "      <td>0.0</td>\n",
       "      <td>0.0</td>\n",
       "      <td>0.0</td>\n",
       "      <td>...</td>\n",
       "      <td>NaN</td>\n",
       "      <td>PREPA</td>\n",
       "      <td>Oil</td>\n",
       "      <td>PREPA</td>\n",
       "      <td>http://www.prepa.com/aguirre.asp</td>\n",
       "      <td>30928.0</td>\n",
       "      <td>0</td>\n",
       "      <td>-66.230796</td>\n",
       "      <td>17.951899</td>\n",
       "      <td>POINT (-66.23080 17.95190)</td>\n",
       "    </tr>\n",
       "    <tr>\n",
       "      <th>2</th>\n",
       "      <td>00000000000000002fda</td>\n",
       "      <td>990.0</td>\n",
       "      <td>1962.0</td>\n",
       "      <td>USA</td>\n",
       "      <td>United States of America</td>\n",
       "      <td>5529.940150</td>\n",
       "      <td>0.0</td>\n",
       "      <td>0.0</td>\n",
       "      <td>0.0</td>\n",
       "      <td>0.0</td>\n",
       "      <td>...</td>\n",
       "      <td>NaN</td>\n",
       "      <td>PREPA</td>\n",
       "      <td>Oil</td>\n",
       "      <td>PREPA</td>\n",
       "      <td>http://www.prepa.com/costasur.asp</td>\n",
       "      <td>30934.0</td>\n",
       "      <td>0</td>\n",
       "      <td>-66.753403</td>\n",
       "      <td>18.000298</td>\n",
       "      <td>POINT (-66.75340 18.00030)</td>\n",
       "    </tr>\n",
       "    <tr>\n",
       "      <th>3</th>\n",
       "      <td>00000000000000003f76</td>\n",
       "      <td>602.0</td>\n",
       "      <td>1960.0</td>\n",
       "      <td>USA</td>\n",
       "      <td>United States of America</td>\n",
       "      <td>3362.650475</td>\n",
       "      <td>0.0</td>\n",
       "      <td>0.0</td>\n",
       "      <td>0.0</td>\n",
       "      <td>0.0</td>\n",
       "      <td>...</td>\n",
       "      <td>NaN</td>\n",
       "      <td>PREPA</td>\n",
       "      <td>Oil</td>\n",
       "      <td>PREPA</td>\n",
       "      <td>http://www.prepa.com/PALOSECO.ASP</td>\n",
       "      <td>30942.0</td>\n",
       "      <td>0</td>\n",
       "      <td>-66.148597</td>\n",
       "      <td>18.455301</td>\n",
       "      <td>POINT (-66.14860 18.45530)</td>\n",
       "    </tr>\n",
       "    <tr>\n",
       "      <th>4</th>\n",
       "      <td>00000000000000002def</td>\n",
       "      <td>10.0</td>\n",
       "      <td>1915.0</td>\n",
       "      <td>USA</td>\n",
       "      <td>United States of America</td>\n",
       "      <td>456.931808</td>\n",
       "      <td>0.0</td>\n",
       "      <td>0.0</td>\n",
       "      <td>0.0</td>\n",
       "      <td>0.0</td>\n",
       "      <td>...</td>\n",
       "      <td>NaN</td>\n",
       "      <td>PREPA</td>\n",
       "      <td>Hydro</td>\n",
       "      <td>PREPA</td>\n",
       "      <td>http://www.prepa.com/historia_eng.asp  https:/...</td>\n",
       "      <td>65289.0</td>\n",
       "      <td>0</td>\n",
       "      <td>-66.106004</td>\n",
       "      <td>18.044702</td>\n",
       "      <td>POINT (-66.10600 18.04470)</td>\n",
       "    </tr>\n",
       "  </tbody>\n",
       "</table>\n",
       "<p>5 rows × 26 columns</p>\n",
       "</div>"
      ],
      "text/plain": [
       "           system:index  capacity_mw  commissioning_year country  \\\n",
       "0  0000000000000000315a         15.0              1942.0     USA   \n",
       "1  000000000000000026e5       1492.0              1975.0     USA   \n",
       "2  00000000000000002fda        990.0              1962.0     USA   \n",
       "3  00000000000000003f76        602.0              1960.0     USA   \n",
       "4  00000000000000002def         10.0              1915.0     USA   \n",
       "\n",
       "               country_long  estimated_generation_gwh  generation_gwh_2013  \\\n",
       "0  United States of America                685.397712                  0.0   \n",
       "1  United States of America               8334.010812                  0.0   \n",
       "2  United States of America               5529.940150                  0.0   \n",
       "3  United States of America               3362.650475                  0.0   \n",
       "4  United States of America                456.931808                  0.0   \n",
       "\n",
       "   generation_gwh_2014  generation_gwh_2015  generation_gwh_2016  ...  \\\n",
       "0                  0.0                  0.0                  0.0  ...   \n",
       "1                  0.0                  0.0                  0.0  ...   \n",
       "2                  0.0                  0.0                  0.0  ...   \n",
       "3                  0.0                  0.0                  0.0  ...   \n",
       "4                  0.0                  0.0                  0.0  ...   \n",
       "\n",
       "   other_fuel3  owner primary_fuel source  \\\n",
       "0          NaN  PREPA        Hydro   CEPR   \n",
       "1          NaN  PREPA          Oil  PREPA   \n",
       "2          NaN  PREPA          Oil  PREPA   \n",
       "3          NaN  PREPA          Oil  PREPA   \n",
       "4          NaN  PREPA        Hydro  PREPA   \n",
       "\n",
       "                                                 url  wepp_id  \\\n",
       "0               http://energia.pr.gov/datos/plantas/  30936.0   \n",
       "1                   http://www.prepa.com/aguirre.asp  30928.0   \n",
       "2                  http://www.prepa.com/costasur.asp  30934.0   \n",
       "3                  http://www.prepa.com/PALOSECO.ASP  30942.0   \n",
       "4  http://www.prepa.com/historia_eng.asp  https:/...  65289.0   \n",
       "\n",
       "   year_of_capacity_data  longitude   latitude                    geometry  \n",
       "0                      0 -66.666299  18.335899  POINT (-66.66630 18.33590)  \n",
       "1                      0 -66.230796  17.951899  POINT (-66.23080 17.95190)  \n",
       "2                      0 -66.753403  18.000298  POINT (-66.75340 18.00030)  \n",
       "3                      0 -66.148597  18.455301  POINT (-66.14860 18.45530)  \n",
       "4                      0 -66.106004  18.044702  POINT (-66.10600 18.04470)  \n",
       "\n",
       "[5 rows x 26 columns]"
      ]
     },
     "execution_count": 9,
     "metadata": {},
     "output_type": "execute_result"
    }
   ],
   "source": [
    "gdf_power_plants = gpd.GeoDataFrame(power_plants, crs = {'init': 'epsg: 4326'}, geometry = geometry_power_plants)\n",
    "gdf_power_plants.head()"
   ]
  },
  {
   "cell_type": "markdown",
   "metadata": {},
   "source": [
    "We can now simply plot this GeoDataFrame"
   ]
  },
  {
   "cell_type": "code",
   "execution_count": 10,
   "metadata": {
    "_kg_hide-input": true
   },
   "outputs": [
    {
     "data": {
      "text/plain": [
       "<matplotlib.axes._subplots.AxesSubplot at 0x7faf49652eb8>"
      ]
     },
     "execution_count": 10,
     "metadata": {},
     "output_type": "execute_result"
    },
    {
     "data": {
      "image/png": "[encoded data removed]",
      "text/plain": [
       "<Figure size 432x288 with 1 Axes>"
      ]
     },
     "metadata": {
      "needs_background": "light"
     },
     "output_type": "display_data"
    }
   ],
   "source": [
    "gdf_power_plants.plot()"
   ]
  },
  {
   "cell_type": "markdown",
   "metadata": {},
   "source": [
    "Just to be sure, we can plot these on a Folium Map, to check that we have the correct CRS and we didn't mess up anything. (You can also check by un-hiding the code, that plotting points on a map with a GeoDataFrame is much easier than if we had to create an additional function to retrieve the longitude and latitude. Technically we could just keep that in a pandas DataFrame, but for the sake of the deomstration, GeoDataFrames are shown here)."
   ]
  },
  {
   "cell_type": "code",
   "execution_count": 11,
   "metadata": {
    "_kg_hide-input": true
   },
   "outputs": [
    {
     "data": {
      "text/html": [
       "<div style=\"width:100%;\"><div style=\"position:relative;width:100%;height:0;padding-bottom:60%;\"><iframe src=\"data:text/html;charset=utf-8;base64,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\" style=\"position:absolute;width:100%;height:100%;left:0;top:0;border:none !important;\" allowfullscreen webkitallowfullscreen mozallowfullscreen></iframe></div></div>"
      ],
      "text/plain": [
       "<folium.folium.Map at 0x7faf47587d68>"
      ]
     },
     "execution_count": 11,
     "metadata": {},
     "output_type": "execute_result"
    }
   ],
   "source": [
    "# Plot on the map\n",
    "lat=18.200178; lon=-66.664513\n",
    "plot = folium.Map(location = (lat, lon), zoom_start=9)\n",
    "\n",
    "for plant_lat, plant_long in zip(gdf_power_plants.latitude, gdf_power_plants.longitude):\n",
    "    folium.Marker(location = (plant_lat, plant_long),\n",
    "                    icon = folium.Icon(color='blue')).add_to(plot)\n",
    "    \n",
    "plot"
   ]
  },
  {
   "cell_type": "markdown",
   "metadata": {},
   "source": [
    "And finally, we want to save this GeoDataFrame to be able to use it later"
   ]
  },
  {
   "cell_type": "code",
   "execution_count": 12,
   "metadata": {},
   "outputs": [],
   "source": [
    "# Saving the geodataframe for easy use later\n",
    "gdf_power_plants.to_file('Geolocated_gppd_120_pr.geojson', driver='GeoJSON')"
   ]
  },
  {
   "cell_type": "markdown",
   "metadata": {},
   "source": [
    "I should add that there are more benefits to making handling GeoJSONs instead of CSVs. For example, we can very easily drop them in QGIS and compare them to any rasters we might have:\n",
    "\n",
    "![Imgur](https://i.imgur.com/AX4e89p.png)"
   ]
  },
  {
   "cell_type": "code",
   "execution_count": null,
   "metadata": {},
   "outputs": [],
   "source": []
  }
 ],
 "metadata": {
  "kernelspec": {
   "display_name": "Python 3",
   "language": "python",
   "name": "python3"
  },
  "language_info": {
   "codemirror_mode": {
    "name": "ipython",
    "version": 3
   },
   "file_extension": ".py",
   "mimetype": "text/x-python",
   "name": "python",
   "nbconvert_exporter": "python",
   "pygments_lexer": "ipython3",
   "version": "3.6.6"
  }
 },
 "nbformat": 4,
 "nbformat_minor": 1
}
